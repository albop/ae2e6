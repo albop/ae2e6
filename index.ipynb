{
  "cells": [
    {
      "cell_type": "markdown",
      "metadata": {},
      "source": [
        "# Macro II - Fluctuations - Part II\n",
        "\n",
        "> **Resources for tutorials**\n",
        ">\n",
        "> The notebooks for the tutorials can be downloaded from this website\n",
        "> (click on the Jupyter icon).\n",
        ">\n",
        "> The following Julia environments can be used:\n",
        ">\n",
        "> -   [candice\n",
        ">     server](https://jupytercloud.idcs.polytechnique.fr/jupyter)\n",
        ">     -   choose the ENSAE in the list of schools, then “computational\n",
        ">         economics”\n",
        ">     -   it has Dynare preinstalled\n",
        "> -   [mybinder](https://mybinder.org/v2/gh/albop/ae2e6_tutorials.git/HEAD)\n",
        ">     -   a bit slow to run\n",
        "> -   a local Julia installation (your own responsability)\n",
        ">\n",
        "> You can browse the dyno models at this\n",
        "> [address](https://www.mosphere.fr/ae2e6_models)\n",
        "\n",
        "## Schedule"
      ],
      "id": "a81326d8-1d56-464a-91c9-59f53bf3bda4"
    }
  ],
  "nbformat": 4,
  "nbformat_minor": 5,
  "metadata": {
    "kernelspec": {
      "display_name": "Python 3",
      "language": "python",
      "name": "python3"
    }
  }
}