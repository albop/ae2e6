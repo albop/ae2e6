{
  "cells": [
    {
      "cell_type": "markdown",
      "metadata": {},
      "source": [
        "# Macro II - Fluctuations\n",
        "\n",
        "## Schedule (WIP)"
      ],
      "id": "fc4d94aa-9cc4-4fcf-9398-a20fc3093fab"
    }
  ],
  "nbformat": 4,
  "nbformat_minor": 5,
  "metadata": {
    "kernelspec": {
      "display_name": "Python 3",
      "language": "python",
      "name": "python3"
    }
  }
}