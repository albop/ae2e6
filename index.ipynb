{
  "cells": [
    {
      "cell_type": "markdown",
      "metadata": {},
      "source": [
        "# Macro II - Fluctuations\n",
        "\n",
        "## Schedule (WIP)"
      ],
      "id": "4235e29e-bfa5-43b4-ac1d-e393798946c3"
    }
  ],
  "nbformat": 4,
  "nbformat_minor": 5,
  "metadata": {
    "kernelspec": {
      "display_name": "Python 3",
      "language": "python",
      "name": "python3"
    }
  }
}