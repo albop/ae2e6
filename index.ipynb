{
  "cells": [
    {
      "cell_type": "markdown",
      "metadata": {},
      "source": [
        "# Macro II - Fluctuations\n",
        "\n",
        "## Schedule (WIP)"
      ],
      "id": "811d4003-6a93-42f2-902a-a02b91442e12"
    }
  ],
  "nbformat": 4,
  "nbformat_minor": 5,
  "metadata": {
    "kernelspec": {
      "display_name": "Python 3",
      "language": "python",
      "name": "python3"
    }
  }
}