{
  "cells": [
    {
      "cell_type": "markdown",
      "metadata": {},
      "source": [
        "# Intro to DSGE Model & Julia Basics\n",
        "\n",
        "# Intro to DSGE Model & Julia Basics\n",
        "\n",
        "Business Cycles and Fluctuations - AE2E6\n",
        "\n",
        "> **Objectives**\n",
        ">\n",
        "> -   Introduce Julia environment\n",
        ">     -   run cells\n",
        ">     -   basic types: numbers, strings, vectors, matrices\n",
        ">     -   functions\n",
        ">     -   simple plots\n",
        "> -   Simulate AR1 models\n",
        ">     -   impulse response functions\n",
        ">     -   stochastic simulations\n",
        ">         -   conditional / unconditional moments\n",
        ">     -   develop intuition about eigenvalues / ergodic distributions\n",
        "> -   Learn the Dyno mini-interface\n",
        ">     -   check the steady-state\n",
        ">     -   understand the meaning of shocks (exogenous variables,\n",
        ">         innovations)\n",
        ">     -   understand the outputs (decision rule, simulation, graphs)\n",
        ">     -   interpret IRFs (persistence, magnitude, …)\n",
        "\n",
        "# Julia Basics\n",
        "\n",
        "# Manipulating AR1 Models\n",
        "\n",
        "We consider here a simple autoregressive model:\n",
        "\n",
        "$$y_t = A y_{t-1} + B e_t$$\n",
        "\n",
        "where $y_t=(y^1_t, y^2_t)$ a vector of variables and\n",
        "$e_t=(e^1_t, e^2_t)$ a normal i.i.d. multivariate process defined by\n",
        "covariance matrix $\\Sigma \\in R^p \\times R^p$.\n",
        "\n",
        "We start by choosing:\n",
        "\n",
        "$$A = \\begin{bmatrix}\\rho & 0 \\\\ 2 & \\lambda\\end{bmatrix}$$\n",
        "\n",
        "$$B = \\begin{bmatrix}1 & 0 \\\\ 0 & 1\\end{bmatrix}$$\n",
        "\n",
        "$$\\Sigma = \\begin{bmatrix}0.05 & 0.005 \\\\ 0.005 & 0.01\\end{bmatrix}$$\n",
        "\n",
        "**Define julia variables for matrices $A, B, \\Sigma$.**\n",
        "\n",
        "**Compute (programmatically) the eigenvalues of A.**\n",
        "\n",
        "**Simulate the response to a one deviation shock to $e^1_t$ and $e^2_t$\n",
        "over 10 periods.**\n",
        "\n",
        "**Plot the result**\n",
        "\n",
        "**What do you get if one eigenvalue is equal to 1? Greater than 1?**\n",
        "\n",
        "**Import the Distributions package. Use `MvNormal` to compute draws from\n",
        "a multivariate distribution with covariance matrix $\\Sigma$**"
      ],
      "id": "5900d5e5-8b40-4f83-a48b-9b9e970b0350"
    },
    {
      "cell_type": "code",
      "execution_count": 14,
      "metadata": {},
      "outputs": [
        {
          "output_type": "stream",
          "name": "stderr",
          "text": [
            "   Resolving package versions...\n",
            "  No Changes to `~/.julia/environments/v1.10/Project.toml`\n",
            "  No Changes to `~/.julia/environments/v1.10/Manifest.toml`"
          ]
        }
      ],
      "source": [
        "# we need the distributions package to compute mvnormal\n",
        "import Pkg; Pkg.add(\"Distributions\")"
      ],
      "id": "cell-16"
    },
    {
      "cell_type": "code",
      "execution_count": 15,
      "metadata": {},
      "outputs": [],
      "source": [
        "using Distributions\n",
        "\n",
        "# MvNormal\n",
        "# check the doc"
      ],
      "id": "cell-17"
    },
    {
      "cell_type": "markdown",
      "metadata": {},
      "source": [
        "**Perform a stochastic simulation over 20 periods starting with a one\n",
        "standard-deviation in $e_2$.**\n",
        "\n",
        "**Perform K=500 stochastic simulations over 20 periods starting with a\n",
        "one standard-deviation in $e_2$. Plot the result.**\n",
        "\n",
        "**Ergodic Distribution.**\n",
        "\n",
        "It can be shown that the ergodic distribution is a multivariate normal\n",
        "law, with covariance matrix $\\Omega$.\n",
        "\n",
        "This matrix is a solution to the equation\n",
        "$\\Omega = A \\Omega A' + B \\Sigma B'$.\n",
        "\n",
        "A simple algorithm to find it consist in applying the recurrence\n",
        "$\\Omega = A \\Omega A' + B \\Sigma B'$ until convergence, starting with\n",
        "$\\Omega_0 =0$.\n",
        "\n",
        "Implement this algorithm."
      ],
      "id": "8cbca4c7-cff1-4ae2-b823-409e574e74cf"
    },
    {
      "cell_type": "code",
      "execution_count": 27,
      "metadata": {},
      "outputs": [
        {
          "output_type": "display_data",
          "metadata": {},
          "data": {
            "text/plain": [
              "ergodic_steady_state (generic function with 1 method)"
            ]
          }
        }
      ],
      "source": [
        "function ergodic_steady_state(A,B,Σ; N=1000, tol_η=1e-8)\n",
        "    Ω0 = Σ*0\n",
        "    for n = 1:N\n",
        "        Ω = A*Ω0*A'+B*Σ*B'\n",
        "        η = maximum( abs.( Ω - Ω0) )\n",
        "        if η<tol_η\n",
        "            return Ω\n",
        "        end\n",
        "        Ω0 = Ω\n",
        "    end\n",
        "    error(\"No convergence\")\n",
        "end\n"
      ],
      "id": "cell-24"
    },
    {
      "cell_type": "markdown",
      "metadata": {},
      "source": [
        "**Compare the result with the empirical ergodic distribution obtained\n",
        "from the simulations**\n",
        "\n",
        "# Using Dyno\n",
        "\n",
        "**Open the RBC. Fix the mistakes in the modfile. Inspect the various\n",
        "elements of the solution.**\n",
        "\n",
        "**Interpret the effect of a productivity shock.**\n",
        "\n",
        "**Bonus: copy the solution to the model from the web interface. Compute\n",
        "impulse response functions yourself and compare to dyno.**"
      ],
      "id": "b3629587-10d0-456e-9826-a4d41da87f4d"
    }
  ],
  "nbformat": 4,
  "nbformat_minor": 5,
  "metadata": {
    "kernelspec": {
      "name": "julia-1.9",
      "display_name": "Julia 1.9.3",
      "language": "julia"
    },
    "language_info": {
      "name": "julia",
      "file_extension": ".jl",
      "mimetype": "application/julia",
      "version": "1.9.3"
    }
  }
}