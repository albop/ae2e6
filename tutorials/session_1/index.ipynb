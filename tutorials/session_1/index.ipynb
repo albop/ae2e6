{
 "cells": [
  {
   "cell_type": "markdown",
   "metadata": {},
   "source": [
    "---\n",
    "title: \"Intro to DSGE Model & Julia Basics\"\n",
    "subtitle: \"Business Cycles and Fluctuations - AE2E6\"\n",
    "---"
   ]
  },
  {
   "cell_type": "markdown",
   "metadata": {},
   "source": [
    "::: {.callout-note collapse=\"true\" title=\"Objectives\"}\n",
    "\n",
    "\n",
    "- Introduce Julia environment\n",
    "    - run cells\n",
    "    - basic types: numbers, strings, vectors, matrices\n",
    "    - functions\n",
    "    - simple plots\n",
    "- Simulate AR1 models\n",
    "    - impulse response functions\n",
    "    - stochastic simulations\n",
    "        - conditional / unconditional moments\n",
    "    - develop intuition about eigenvalues / ergodic distributions\n",
    "- Learn the Dyno mini-interface\n",
    "    - check the steady-state\n",
    "    - understand the meaning of shocks (exogenous variables, innovations)\n",
    "    - understand the outputs (decision rule, simulation, graphs)\n",
    "    - interpret IRFs (persistence, magnitude, ...)\n",
    "\n",
    ":::    "
   ]
  },
  {
   "cell_type": "markdown",
   "metadata": {},
   "source": [
    "# Julia Basics"
   ]
  },
  {
   "cell_type": "markdown",
   "metadata": {},
   "source": [
    "::: {.content-visible when-profile=\"correction\"}\n",
    "\n",
    "This should contain only the correction.\n",
    "\n",
    ":::"
   ]
  },
  {
   "cell_type": "markdown",
   "metadata": {},
   "source": [
    "# Manipulating AR1 Models\n",
    "\n",
    "We consider here a simple autoregressive model:\n",
    "\n",
    "$$y_t = A y_{t-1} + B e_t$$\n",
    "\n",
    "where $y_t \\in R^n$ is a vector and  $e_t \\in R^p$ a normal i.i.d. multivariate process defined by convariance matrix $\\Sigma \\in R^p \\times R^p$.\n",
    "\n"
   ]
  },
  {
   "cell_type": "markdown",
   "metadata": {},
   "source": [
    "__Define julia variables for matrices $A, B, \\Sigma$.__\n",
    "\n",
    "We choose: \n",
    "\n",
    "$$\\begin{matrix}\\rho & 0 \\\\ 0, \\lambda\\end{matrix}"
   ]
  },
  {
   "cell_type": "code",
   "execution_count": null,
   "metadata": {},
   "outputs": [],
   "source": []
  },
  {
   "cell_type": "markdown",
   "metadata": {},
   "source": []
  },
  {
   "cell_type": "code",
   "execution_count": null,
   "metadata": {},
   "outputs": [],
   "source": []
  },
  {
   "cell_type": "markdown",
   "metadata": {},
   "source": [
    "# Using Dyno\n",
    "\n"
   ]
  },
  {
   "cell_type": "markdown",
   "metadata": {},
   "source": [
    "__Open the neoclassical model first.__"
   ]
  },
  {
   "cell_type": "code",
   "execution_count": null,
   "metadata": {},
   "outputs": [],
   "source": []
  },
  {
   "cell_type": "code",
   "execution_count": 10,
   "metadata": {},
   "outputs": [
    {
     "ename": "ErrorException",
     "evalue": "syntax: extra token \"the\" after end of expression",
     "output_type": "error",
     "traceback": [
      "syntax: extra token \"the\" after end of expression\n",
      "\n",
      "Stacktrace:\n",
      " [1] top-level scope\n",
      "   @ ~/Teaching/ensae/ae2e6/tutorials/session_1/index.ipynb:1"
     ]
    }
   ],
   "source": [
    "H__ow is the steady-state coded\n",
    "- "
   ]
  },
  {
   "cell_type": "markdown",
   "metadata": {},
   "source": [
    "__Bonus: copy the solution to the model from the web interface. Compute impulse response functions and compare to the model.__"
   ]
  },
  {
   "cell_type": "code",
   "execution_count": null,
   "metadata": {},
   "outputs": [],
   "source": [
    "# Copy the values for:\n",
    "\n",
    "# A\n",
    "# B\n",
    "# Σ"
   ]
  },
  {
   "cell_type": "code",
   "execution_count": null,
   "metadata": {},
   "outputs": [],
   "source": []
  }
 ],
 "metadata": {
  "kernelspec": {
   "display_name": "Julia 1.9.3",
   "language": "julia",
   "name": "julia-1.9"
  },
  "language_info": {
   "file_extension": ".jl",
   "mimetype": "application/julia",
   "name": "julia",
   "version": "1.9.3"
  }
 },
 "nbformat": 4,
 "nbformat_minor": 2
}
