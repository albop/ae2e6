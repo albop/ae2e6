{
 "cells": [
  {
   "cell_type": "markdown",
   "metadata": {},
   "source": [
    "---\n",
    "title: \"A two agents model of inequalities.\"\n",
    "subtitle: \"Business Cycles and Fluctuations - AE2E6\"\n",
    "format:\n",
    "    ipynb:\n",
    "        output_file: problem_correction.ipynb\n",
    "\n",
    "    html:\n",
    "        output-file: problem_correction.html\n",
    "resources:\n",
    "    - \"*.mod\"\n",
    "listing:\n",
    "    id: mod-listings\n",
    "    contents:\n",
    "        - \"*.mod\"\n",
    "    fields: [filename]\n",
    "---"
   ]
  },
  {
   "cell_type": "markdown",
   "metadata": {},
   "source": [
    "::: {.callout-tip title=\"Modfiles\" collapse=\"true\"}\n",
    "\n",
    ":::: {#mod-listings}\n",
    "::::\n",
    "\n",
    ":::"
   ]
  },
  {
   "cell_type": "markdown",
   "metadata": {},
   "source": [
    "Uncomment the following lines to install needed packages (if not already present)."
   ]
  },
  {
   "cell_type": "code",
   "execution_count": 1,
   "metadata": {},
   "outputs": [],
   "source": [
    "# uncomment the next lines, the first time you run\n",
    "# import Pkg; Pkg.add([\"DBnomics\", \"Dynare\", \"DataFrames\"])"
   ]
  },
  {
   "cell_type": "markdown",
   "metadata": {},
   "source": [
    "## Preference for wealth and marginal propensity to consume\n",
    "\n",
    "\n",
    "For now, we consider a single representative agent. She has the ability to buy a two periods bond, yielding 1 after one period. The price of the bond at any date is $q$, hence its (riskfree) interest rate is $r=1/q$.\n",
    "\n",
    "Agent values consumption $c_t$ and wealth $b_t q_t$ so that she maximizes[^footnote]:\n",
    "\n",
    "$$\\max \\sum_t \\beta^t \\left( \\frac{c_t^{1-\\frac{1}{\\sigma}}}{1-\\frac{1}{\\sigma}}+ \\varphi \\frac{ (1+b_t)^{1-\\frac{1}{\\eta}} } {1-\\frac{1}{\\eta}} \\right)$$\n",
    "\n",
    "under the budget constraint\n",
    "\n",
    "$$c_t = y_t + b_{t-1} - b_t q_t$$\n",
    "\n",
    "where $y_t$ is exogenous income following AR1 \n",
    "\n",
    "$$(y_t-\\overline{y})=\\rho (y_{t-1}-\\overline{y}) + \\epsilon^y_t$$\n",
    "\n",
    "\n",
    "\n",
    "[^footnote]: this is the \"preference for wealth\" specification"
   ]
  },
  {
   "cell_type": "code",
   "execution_count": 1,
   "metadata": {},
   "outputs": [],
   "source": [
    "using Dynare"
   ]
  },
  {
   "cell_type": "markdown",
   "metadata": {},
   "source": [
    "@. __Write down the optimality condition for debt holdings.__"
   ]
  },
  {
   "cell_type": "markdown",
   "metadata": {},
   "source": [
    ":::: {.callout-warning title=\"Correction\" collapse=\"true\"}\n",
    "\n",
    "We get:\n",
    "\n",
    "$$q_t = \\beta \\left(\\frac{c_{t+1}}{c_{t}}\\right)^{-\\frac{1}{\\sigma}}+\\varphi \\left(\\frac{1 + b_t q_t}{c_{t}}\\right)^{-\\frac{1}{\\sigma}}$$\n",
    "\n",
    "::::"
   ]
  },
  {
   "cell_type": "markdown",
   "metadata": {},
   "source": [
    "__What are the equations defining the deterministic equilibrium?__"
   ]
  },
  {
   "cell_type": "markdown",
   "metadata": {},
   "source": [
    ":::: {.callout-warning title=\"Correction\" collapse=\"true\"}\n",
    "\n",
    "At the equilibium, the last equation becomes.\n",
    "$$q = \\beta + \\varphi \\left(\\frac{1 + b q}{c}\\right)^{-\\frac{1}{\\sigma}}$$\n",
    "\n",
    "::::\n"
   ]
  },
  {
   "cell_type": "markdown",
   "metadata": {},
   "source": [
    "__3. Inspect and run `one_agent.mod` model. Show that there is a unit root. Can you interpret it?__"
   ]
  },
  {
   "cell_type": "markdown",
   "metadata": {},
   "source": [
    ":::: {.callout-warning title=\"Correction\" collapse=\"true\"}\n",
    "\n",
    "\n",
    "The `one_agent.mod` model is a standard consumption saving model without preference for wealth. \n",
    "\n",
    "In general, if the solution of a model is $y_t = A y_{t-1}$ where $y_t$ is the vector of variables, we have a unit root when one of the eigenvalues of A is equal to 1 in absolute terms.\n",
    "\n",
    "In the specific case of the modfile, we can directly read the values of matrix $A$ are given in the output of dynare (precisely it is a subset of $A'$)\n",
    "\n",
    "```\n",
    "  Coefficients of approximate solution function (reduced form)\n",
    "\n",
    "───────┬──────────────────\n",
    "       │ y_t   c_t    b_t\n",
    "──────────────────────────\n",
    "  ϕ(b) │ 0.0  0.0385  1.0\n",
    " e_y_t │ 0.1  0.0038  0.1\n",
    "───────┴──────────────────\n",
    "```\n",
    "\n",
    "The rows correspond to the (predetermined) states. Non predetermined variables do not appear as rows (or equivalently with zeros everywhere).\n",
    "\n",
    "Here we see that $b_t$ is the only endogenous state. We also see that its dynamic is given by:\n",
    "\n",
    "$$b_t = 1.0 b_{t-1} + 0.1 e_{y,t}$$\n",
    "\n",
    "In other words, the dynamic of $b$ is an AR1 with perfect persistence.\n",
    "\n",
    "This behaviour (like in an open economy) comes from the fact that any steady-state level of debt is feasible (in a deterministic model). Hence shocks can affect the steady-state permanently.\n",
    "\n",
    "::::"
   ]
  },
  {
   "cell_type": "code",
   "execution_count": 4,
   "metadata": {},
   "outputs": [
    {
     "name": "stderr",
     "output_type": "stream",
     "text": [
      "Dynare version: 0.9.11\n",
      "2024-05-16T15:39:08.946: Starting @dynare one_agent.mod\n",
      "[\"one_agent.mod\", \"language=julia\", \"json=compute\"]\n",
      "Dynare preprocessor version: 6.4.0+0\n",
      "2024-05-16T15:39:08.950: End of preprocessing\n",
      "2024-05-16T15:39:08.953: Start parse_statements!\n",
      "  Steady state\n",
      "\n",
      "───┬─────\n",
      " y │ 1.0\n",
      " c │ 1.0\n",
      " b │ 0.0\n",
      "───┴─────\n",
      "\n",
      "  Coefficients of approximate solution function (reduced form)\n",
      "\n",
      "───────┬──────────────────\n",
      "       │ y_t   c_t    b_t\n",
      "──────────────────────────\n",
      "  ϕ(b) │ 0.0  0.0385  1.0\n",
      " e_y_t │ 0.1  0.0038  0.1\n",
      "───────┴──────────────────\n",
      "\n",
      "  Note: ϕ(x) = x_{t-1} - steady_state(x)\n",
      "\n",
      "  THEORETICAL MOMENTS\n",
      "\n",
      "──────────┬───────────────────────────\n",
      " VARIABLE │ MEAN  STD. DEV.  VARIANCE\n",
      "──────────────────────────────────────\n",
      "        y │  1.0      0.001       0.0\n",
      "        c │  NaN        NaN       NaN\n",
      "        b │  NaN        NaN       NaN\n",
      "──────────┴───────────────────────────\n",
      "\n",
      "  VARIANCE DECOMPOSITION (in percent)\n",
      "\n",
      "──────────┬─────\n",
      " VARIABLE │ e_y\n",
      "────────────────\n",
      "        y │ 1.0\n",
      "──────────┴─────\n",
      "\n",
      "  CORRELATION MATRIX\n",
      "\n",
      "───┬─────\n",
      "   │  y\n",
      "─────────\n",
      " y │ 1.0\n",
      "───┴─────\n",
      "\n",
      "  AUTOCORRELATION COEFFICIENTS\n",
      "\n",
      "───┬─────────────────────────\n",
      "   │  1    2     3    4    5\n",
      "─────────────────────────────\n",
      " y │ 0.0  0.0  0.0  0.0  0.0\n",
      "───┴─────────────────────────\n",
      "\n"
     ]
    },
    {
     "name": "stdout",
     "output_type": "stream",
     "text": [
      "Starting preprocessing of the model file ...\n",
      "Found 3 equation(s).\n",
      "Evaluating expressions...\n",
      "Computing static model derivatives (order 1).\n",
      "Normalizing the static model...\n",
      "Normalization failed with cutoff, trying symbolic normalization...\n",
      "Could not normalize the static model. Variable b is not in the maximum cardinality matching.\n",
      "Computing dynamic model derivatives (order 1).\n",
      "Normalizing the dynamic model...\n",
      "Finding the optimal block decomposition of the dynamic model...\n",
      "3 block(s) found:\n",
      "  3 recursive block(s) and 0 simultaneous block(s).\n",
      "  the largest simultaneous block has 0 equation(s)\n",
      "                                 and 0 feedback variable(s).\n",
      "JSON written after Computing step.\n",
      "Preprocessing completed.\n",
      "\n",
      "\n",
      "\n",
      "\n",
      "\n",
      "\n",
      "\n",
      "\n",
      "\n",
      "\n",
      "\n"
     ]
    },
    {
     "name": "stderr",
     "output_type": "stream",
     "text": [
      "2024-05-16T15:39:08.990: End parse_statements!\n",
      "2024-05-16T15:39:08.990: End parser\n"
     ]
    }
   ],
   "source": [
    "@dynare(\"one_agent.mod\");"
   ]
  },
  {
   "cell_type": "markdown",
   "metadata": {},
   "source": [
    "@. __What is the consumption response to a temporary income shock? To a permanent one? (with autocorrelation $\\rho=0.9$ and $\\rho=1.0$)__"
   ]
  },
  {
   "cell_type": "markdown",
   "metadata": {},
   "source": [
    ":::: {.callout-warning title=\"Correction\" collapse=\"true\"}\n",
    "\n",
    "Change the income equation:\n",
    "\n",
    "- for a temporary shock remove the zero to get: `y = ybar + e_y`\n",
    "- For a persistent one, define a new parameter in the parameters line initialized to `rho=0.9` and change the equation to `y - ybar = rho*(y(-1) - ybar) + e_y`. In the case `rho=1.0` note the apparition of a second unit root.\n",
    "\n",
    "In the simulations, pay attention to the magnitude of the shock `e_y` (1% by default) to compare it to the magnitude of the response for assets `b`.\n",
    "\n",
    "In all simulations, the persistent effect of the shock on the level of debt comes from the presence of a unit root.\n",
    "\n",
    "::::"
   ]
  },
  {
   "cell_type": "markdown",
   "metadata": {},
   "source": [
    "@. __In the modfile, add a preference for wealth term in the utility function and adjust the calibration of `beta` accordingly.__"
   ]
  },
  {
   "cell_type": "markdown",
   "metadata": {},
   "source": [
    ":::: {.callout-warning title=\"Correction\" collapse=\"true\"}\n",
    "\n",
    "Parameters `phi` and `eta` are already predefined.\n",
    "\n",
    "Add `+ phi*(1+b*q)^(-1/eta)/(c^(-1/sigma))` to the Euler equation and `beta = 1/r - phi*(1+bbar*q)^(-1/eta)/(cbar^(-1/sigma));` in the definition of parameters\n",
    "\n",
    "The simulation runs, only when the command `check` succeeds, in particular, when the steady-sate is satisfied. If it is not the case, you need to adjust the equations/calibration.\n",
    "\n",
    "Result is in the `one_agent_2.mod` file.\n",
    "\n",
    "Here we see that one unit root has disappeared, because pref. for wealth pins down equilibrium asset holdings.\n",
    "\n",
    "::::\n"
   ]
  },
  {
   "cell_type": "markdown",
   "metadata": {},
   "source": [
    "__6. Simulate the response to a temporary and a persistent shock. Given `phi` what is the effect of `eta`?__"
   ]
  },
  {
   "cell_type": "markdown",
   "metadata": {},
   "source": [
    ":::: {.callout-warning title=\"Correction\" collapse=\"true\"}\n",
    "\n",
    "\n",
    "\n",
    "Now the savings response to transitory shock is mean reverting, while the response to a persistent shock is persistent and even increasing over time.\n",
    "\n",
    "`eta` affects the long run savings level in response to a temporary income shock. (If curious you should be able to check it does not depend on phi).\n",
    "\n",
    "::::"
   ]
  },
  {
   "cell_type": "markdown",
   "metadata": {},
   "source": [
    "## A two agents model\n",
    "\n",
    "We now assume there are two agents: bottom and top earners. Top earners amount for a fraction $\\chi$ of the total population. Together they earn a fraction $z\\in[0,1]$ of the total production $y$ which is an AR1 process as in the first part. The rest goes to the bottom earners.\n",
    "\n",
    "Top earners can save by lending to bottom earners. We denote by $B_t$ the total quantity of riskfree bonds, traded at $q_t$. Note that debt per capita is $\\frac{B_t}{\\chi}$ for top earners and $\\frac{B_t}{1-\\chi}$ for bottom earners. Top earners have preference for wealth as in the first part, while bottom earners have standard preferences (with $\\varphi=0$)"
   ]
  },
  {
   "cell_type": "markdown",
   "metadata": {},
   "source": [
    "@. __Write down the budget equations for both agents. What are the new Euler equations? Check that it is consistent with the `two_agents.mod` modfile. What are the per capita variables?__"
   ]
  },
  {
   "cell_type": "markdown",
   "metadata": {},
   "source": [
    ":::: {.callout-warning title=\"Correction\" collapse=\"true\"}\n",
    "\n",
    "Budget constraints are included in the modfile.\n",
    "\n",
    "Per capita variables: `c_t`, `c_b`, `b_t` and `b_b`.\n",
    "\n",
    "::::"
   ]
  },
  {
   "cell_type": "markdown",
   "metadata": {},
   "source": [
    "@. __What is qualitatively the effect of a permanent redistributive shock? (simulate the model)__"
   ]
  },
  {
   "cell_type": "markdown",
   "metadata": {},
   "source": [
    ":::: {.callout-warning title=\"Correction\" collapse=\"true\"}\n",
    "\n",
    "With increased income, top earners want to increase their asset holdings. This will happen since bottom earners are indifferent in the steady-state. During the transition however, we see a decrease in the interest rate (to convince borrower to accept a decreasing path of consumption over time).\n",
    "\n",
    "![Response to a redistributive shock](two_agents/graphs/irfs_e_z_1.png)\n",
    "\n",
    "::::"
   ]
  },
  {
   "cell_type": "code",
   "execution_count": 11,
   "metadata": {},
   "outputs": [
    {
     "name": "stderr",
     "output_type": "stream",
     "text": [
      "Dynare version: 0.9.11\n",
      "2024-05-16T16:04:04.483: Starting @dynare two_agents.mod\n",
      "[\"two_agents.mod\", \"language=julia\", \"json=compute\"]\n",
      "Dynare preprocessor version: 6.4.0+0\n",
      "2024-05-16T16:04:04.488: End of preprocessing\n",
      "2024-05-16T16:04:04.493: Start parse_statements!\n",
      "  Coefficients of approximate solution function (reduced form)\n",
      "\n",
      "────────┬─────────────────────────────────────────────────────────────────────────\n",
      "        │ y_t   z_t   c_t_t    c_b_t    b_t_t    b_b_t     B_t       q_t      r_t\n",
      "──────────────────────────────────────────────────────────────────────────────────\n",
      "   ϕ(y) │  0.9  0.0   2.4446   0.8187   -2.4617  0.1296  -0.1231  0.1745  -0.1887\n",
      "   ϕ(z) │  0.0  1.0  17.9241  -0.9434    1.9191  -0.101    0.096  0.0127  -0.0137\n",
      " ϕ(b_t) │ -0.0  0.0   0.1658   0.0439   -0.9495    0.05  -0.0475   0.096  -0.1038\n",
      " ϕ(b_b) │ -0.0  0.0   2.1269   0.8881  -36.7706  1.9353  -1.8385  1.8258  -1.9748\n",
      "  e_y_t │  1.0  0.0   2.7162   0.9097   -2.7352   0.144  -0.1368  0.1938  -0.2097\n",
      "  e_z_t │ -0.0  1.0  17.9241  -0.9434    1.9191  -0.101    0.096  0.0127  -0.0137\n",
      "────────┴─────────────────────────────────────────────────────────────────────────\n",
      "\n",
      "  Note: ϕ(x) = x_{t-1} - steady_state(x)\n",
      "\n",
      "  THEORETICAL MOMENTS\n",
      "\n",
      "──────────┬─────────────────────────────\n",
      " VARIABLE │  MEAN   STD. DEV.  VARIANCE\n",
      "────────────────────────────────────────\n",
      "        y │    1.0     0.0229    0.0005\n",
      "        z │    NaN        NaN       NaN\n",
      "      c_t │    NaN        NaN       NaN\n",
      "      c_b │    NaN        NaN       NaN\n",
      "      b_t │    NaN        NaN       NaN\n",
      "      b_b │    NaN        NaN       NaN\n",
      "        B │    NaN        NaN       NaN\n",
      "        q │ 0.9615     0.0046       0.0\n",
      "        r │   1.04      0.005       0.0\n",
      "──────────┴─────────────────────────────\n",
      "\n",
      "  VARIANCE DECOMPOSITION (in percent)\n",
      "\n",
      "──────────┬────────────────\n",
      " VARIABLE │  e_y     e_z\n",
      "───────────────────────────\n",
      "        y │    1.0    -0.0\n",
      "        q │ 0.9249  0.0751\n",
      "        r │ 0.9249  0.0751\n",
      "──────────┴────────────────\n",
      "\n",
      "  CORRELATION MATRIX\n",
      "\n",
      "───┬──────────────────────────\n",
      "   │    y       q        r\n",
      "──────────────────────────────\n",
      " y │     1.0  0.9617  -0.9617\n",
      " q │  0.9617     1.0     -1.0\n",
      " r │ -0.9617    -1.0      1.0\n",
      "───┴──────────────────────────\n",
      "\n",
      "  AUTOCORRELATION COEFFICIENTS\n",
      "\n",
      "───┬────────────────────────────────────────\n",
      "   │   1       2       3       4          5\n",
      "────────────────────────────────────────────\n",
      " y │    0.9    0.81   0.729  0.6561  0.5905\n",
      " q │ 0.8324  0.7492  0.6742  0.6068  0.5461\n",
      " r │ 0.8324  0.7492  0.6742  0.6068  0.5461\n",
      "───┴────────────────────────────────────────\n",
      "\n"
     ]
    },
    {
     "name": "stdout",
     "output_type": "stream",
     "text": [
      "Starting preprocessing of the model file ...\n",
      "Found 9 equation(s).\n",
      "Evaluating expressions...\n",
      "Computing static model derivatives (order 1).\n",
      "Normalizing the static model...\n",
      "Finding the optimal block decomposition of the static model...\n",
      "6 block(s) found:\n",
      "  5 recursive block(s) and 1 simultaneous block(s).\n",
      "  the largest simultaneous block has 2 equation(s)\n",
      "                                 and 2 feedback variable(s).\n",
      "Computing dynamic model derivatives (order 1).\n",
      "Normalizing the dynamic model...\n",
      "Finding the optimal block decomposition of the dynamic model...\n",
      "3 block(s) found:\n",
      "  2 recursive block(s) and 1 simultaneous block(s).\n",
      "  the largest simultaneous block has 6 equation(s)\n",
      "                                 and 6 feedback variable(s).\n",
      "JSON written after Computing step.\n",
      "Preprocessing completed.\n",
      "\n",
      "\n",
      "\n",
      "\n",
      "\n",
      "\n",
      "\n",
      "\n",
      "\n",
      "\n",
      "\n"
     ]
    },
    {
     "name": "stderr",
     "output_type": "stream",
     "text": [
      "2024-05-16T16:04:04.599: End parse_statements!\n",
      "2024-05-16T16:04:04.599: End parser\n"
     ]
    }
   ],
   "source": [
    "@dynare(\"two_agents.mod\");"
   ]
  },
  {
   "cell_type": "markdown",
   "metadata": {},
   "source": [
    "## Calibrating and simulating the model\n",
    "\n",
    "The model in the modefile is pre-calibrated to match US data in 1983. Assume the model is in equilibrium for an initial level of debt $B=0.91$ (which is the debt/gdp ratio in the us in 1983). \n",
    "\n",
    "Taking $\\varphi=0.05$ as constant, for any given choice of $\\eta$, there is a unique value of $\\beta$ consistent with the equilibrium as in the one agent case.\n",
    "\n",
    "Now we would like to calibrate the value of $\\eta$ so as to match the marginal propensity to save of top earners which was approximately 50% in 1983. \n",
    "\n",
    "Since the two agents model is already calibrated for most variables, we reuse it rather than adapting the one agent model."
   ]
  },
  {
   "cell_type": "markdown",
   "metadata": {},
   "source": [
    "@. __In the model `two_agents.mod` replace the Euler equation of bottom earner by `q = 1/rbar`. Justify why, from the top earners perspective, the model is now equivalent to a single agent model.__"
   ]
  },
  {
   "cell_type": "markdown",
   "metadata": {},
   "source": [
    ":::: {.callout-warning title=\"Correction\" collapse=\"true\"}\n",
    "\n",
    "Interest rate is the only manifestation of bottom earners preferences in the model. If we set it equal to a constant, top earners are now facing an infinitely elastic demand of bonds as in the one agent case.\n",
    "\n",
    "\n",
    "::::"
   ]
  },
  {
   "cell_type": "markdown",
   "metadata": {},
   "source": [
    "__@. Use the modified model to compute the marginal propensity out of a permanent income shock after 6 periods. Choose parameter `eta` so that this m.p.s. is approximatively 50%.__"
   ]
  },
  {
   "cell_type": "markdown",
   "metadata": {},
   "source": [
    ":::: {.callout-warning title=\"Correction\" collapse=\"true\"}\n",
    "\n",
    "Several options here. We can just make a persistent shock of size sig_z to the overall income $y$ and compute the marginal propensity to save at different periods (variable mps). It must be normalized by the initial income level of top earners. We can then run computations for different values of $eta$ until we find the desired value.\n",
    "\n",
    "Modified model is `two_agents_mps.mps`. I found eta=0.6 to be a good calibration.\n",
    "\n",
    "::::"
   ]
  },
  {
   "cell_type": "code",
   "execution_count": null,
   "metadata": {},
   "outputs": [],
   "source": [
    "@dynare(\"two_agents_mps.mps\")"
   ]
  },
  {
   "cell_type": "markdown",
   "metadata": {},
   "source": [
    "@. __What is the effect of a 10% permanent increase in inequalities? Over 30 years and in the long run?__\n"
   ]
  },
  {
   "cell_type": "markdown",
   "metadata": {},
   "source": [
    ":::: {.callout-warning title=\"Correction\" collapse=\"true\"}\n",
    "\n",
    "Several options here. We can just make a persistent shock of size sig_z to the overall income $y$ and compute the marginal propensity to save at different periods (variable mps). It must be normalized by the initial income level of top earners. We can then run computations for different values of $eta$ until we find the desired value.\n",
    "\n",
    "Modified model is `two_agents_mps.mps`. I found eta=0.6 to be a good calibration.\n",
    "\n",
    "::::"
   ]
  }
 ],
 "metadata": {
  "kernelspec": {
   "display_name": "Julia 1.10.3",
   "language": "julia",
   "name": "julia-1.10"
  },
  "language_info": {
   "file_extension": ".jl",
   "mimetype": "application/julia",
   "name": "julia",
   "version": "1.10.3"
  }
 },
 "nbformat": 4,
 "nbformat_minor": 2
}
