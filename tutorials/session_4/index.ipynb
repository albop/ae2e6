{
 "cells": [
  {
   "cell_type": "markdown",
   "metadata": {},
   "source": [
    "---\n",
    "title: \"A two agents model of inequalities.\"\n",
    "subtitle: \"Business Cycles and Fluctuations - AE2E6\"\n",
    "format:\n",
    "    ipynb:\n",
    "        output_file: problem.ipynb\n",
    "\n",
    "    html:\n",
    "        output-file: problem.html\n",
    "resources:\n",
    "    - \"*.mod\"\n",
    "listing:\n",
    "    id: mod-listings\n",
    "    contents:\n",
    "        - \"*.mod\"\n",
    "    fields: [filename]\n",
    "---"
   ]
  },
  {
   "cell_type": "markdown",
   "metadata": {},
   "source": [
    "::: {.callout-tip title=\"Modfiles\" collapse=\"true\"}\n",
    "\n",
    ":::: {#mod-listings}\n",
    "::::\n",
    "\n",
    ":::"
   ]
  },
  {
   "cell_type": "markdown",
   "metadata": {},
   "source": [
    "Uncomment the following lines to install needed packages (if not already present)."
   ]
  },
  {
   "cell_type": "code",
   "execution_count": 1,
   "metadata": {},
   "outputs": [],
   "source": [
    "# uncomment the next lines, the first time you run\n",
    "# import Pkg; Pkg.add([\"DBnomics\", \"Dynare\", \"DataFrames\"])"
   ]
  },
  {
   "cell_type": "markdown",
   "metadata": {},
   "source": [
    "## Preference for wealth and marginal propensity to consume\n",
    "\n",
    "\n",
    "For now, we consider a single representative agent. She has the ability to buy a two periods bond, yielding 1 after one period. The price of the bond at any date is $q$, hence its (riskfree) interest rate is $r=1/q$.\n",
    "\n",
    "Agent values consumption $c_t$ and wealth $b_t q_t$ so that she maximizes[^footnote]:\n",
    "\n",
    "$$\\max \\sum_t \\beta^t \\left( \\frac{c_t^{1-\\frac{1}{\\sigma}}}{1-\\frac{1}{\\sigma}}+ \\varphi \\frac{ (1+b_t)^{1-\\frac{1}{\\eta}} } {1-\\frac{1}{\\eta}} \\right)$$\n",
    "\n",
    "under the budget constraint\n",
    "\n",
    "$$c_t = y_t + b_{t-1} - b_t q_t$$\n",
    "\n",
    "where $y_t$ is exogenous income following AR1 \n",
    "\n",
    "$$(y_t-\\overline{y})=\\rho (y_{t-1}-\\overline{y}) + \\epsilon^y_t$$\n",
    "\n",
    "\n",
    "\n",
    "[^footnote]: this is the \"preference for wealth\" specification"
   ]
  },
  {
   "cell_type": "code",
   "execution_count": 1,
   "metadata": {},
   "outputs": [],
   "source": [
    "using Dynare"
   ]
  },
  {
   "cell_type": "markdown",
   "metadata": {},
   "source": [
    "@. __Write down the optimality condition for debt holdings.__"
   ]
  },
  {
   "cell_type": "code",
   "execution_count": null,
   "metadata": {},
   "outputs": [],
   "source": []
  },
  {
   "cell_type": "markdown",
   "metadata": {},
   "source": [
    "@. __What are the equations defining the deterministic equilibrium?__"
   ]
  },
  {
   "cell_type": "code",
   "execution_count": null,
   "metadata": {},
   "outputs": [],
   "source": []
  },
  {
   "cell_type": "markdown",
   "metadata": {},
   "source": [
    "@. __Inspect and run `one_agent.mod` model. Show that there is a unit root. Can you interpret it?__"
   ]
  },
  {
   "cell_type": "code",
   "execution_count": null,
   "metadata": {},
   "outputs": [],
   "source": []
  },
  {
   "cell_type": "markdown",
   "metadata": {},
   "source": [
    "@. __What is the consumption response to a temporary income shock? To a permanent one? (with autocorrelation $\\rho=0.9$ and $\\rho=1.0$)__"
   ]
  },
  {
   "cell_type": "code",
   "execution_count": null,
   "metadata": {},
   "outputs": [],
   "source": []
  },
  {
   "cell_type": "markdown",
   "metadata": {},
   "source": [
    "@. __In the modfile, add a preference for wealth term in the utility function and adjust the calibration of `beta` accordingly.__"
   ]
  },
  {
   "cell_type": "code",
   "execution_count": null,
   "metadata": {},
   "outputs": [],
   "source": []
  },
  {
   "cell_type": "markdown",
   "metadata": {},
   "source": [
    "@. __Simulate the response to a temporary and a persistent shock. Given `phi` what is the effect of `eta`?__"
   ]
  },
  {
   "cell_type": "code",
   "execution_count": null,
   "metadata": {},
   "outputs": [],
   "source": []
  },
  {
   "cell_type": "markdown",
   "metadata": {},
   "source": [
    "## A two agents model\n",
    "\n",
    "We now assume there are two agents: bottom and top earners. Top earners amount for a fraction $\\chi$ of the total population. Together they earn a fraction $z\\in[0,1]$ of the total production $y$ which is an AR1 process as in the first part. The rest goes to the bottom earners.\n",
    "\n",
    "Top earners can save by lending to bottom earners. We denote by $B_t$ the total quantity of riskfree bonds, traded at $q_t$. Note that debt per capita is $\\frac{B_t}{\\chi}$ for top earners and $\\frac{B_t}{1-\\chi}$ for bottom earners. Top earners have preference for wealth as in the first part, while bottom earners have standard preferences (with $\\varphi=0$)"
   ]
  },
  {
   "cell_type": "markdown",
   "metadata": {},
   "source": [
    "@. __Write down the budget equations for both agents. What are the new Euler equations? Check that it is consistent with the `two_agents.mod` modfile. What are the per capita variables?__"
   ]
  },
  {
   "cell_type": "code",
   "execution_count": null,
   "metadata": {},
   "outputs": [],
   "source": []
  },
  {
   "cell_type": "markdown",
   "metadata": {},
   "source": [
    "@. __What is qualitatively the effect of a permanent redistributive shock? (simulate the model)__"
   ]
  },
  {
   "cell_type": "code",
   "execution_count": null,
   "metadata": {},
   "outputs": [],
   "source": []
  },
  {
   "cell_type": "markdown",
   "metadata": {},
   "source": [
    "## Calibrating and simulating the model\n",
    "\n",
    "The model in the modefile is pre-calibrated to match US data in 1983. Assume the model is in equilibrium for an initial level of debt $B=0.91$ (which is the debt/gdp ratio in the us in 1983). \n",
    "\n",
    "Taking $\\varphi=0.05$ as constant, for any given choice of $\\eta$, there is a unique value of $\\beta$ consistent with the equilibrium as in the one agent case.\n",
    "\n",
    "Now we would like to calibrate the value of $\\eta$ so as to match the marginal propensity to save of top earners which was approximately 50% in 1983. \n",
    "\n",
    "Since the two agents model is already calibrated for most variables, we reuse it rather than adapting the one agent model."
   ]
  },
  {
   "cell_type": "markdown",
   "metadata": {},
   "source": [
    "@. __In the model `two_agents.mod` replace the Euler equation of bottom earner by `q = 1/rbar`. Justify why, from the top earners perspective, the model is now equivalent to a single agent model.__"
   ]
  },
  {
   "cell_type": "code",
   "execution_count": null,
   "metadata": {},
   "outputs": [],
   "source": []
  },
  {
   "cell_type": "markdown",
   "metadata": {},
   "source": [
    "__@. Use the modified model to compute the marginal propensity out of a permanent income shock after 6 periods. Choose parameter `eta` so that this m.p.s. is approximatively 50%.__"
   ]
  },
  {
   "cell_type": "code",
   "execution_count": null,
   "metadata": {},
   "outputs": [],
   "source": []
  },
  {
   "cell_type": "markdown",
   "metadata": {},
   "source": [
    "@. __What is the effect of a 10% permanent increase in inequalities? Over 30 years and in the long run?__\n"
   ]
  },
  {
   "cell_type": "code",
   "execution_count": null,
   "metadata": {},
   "outputs": [],
   "source": []
  }
 ],
 "metadata": {
  "kernelspec": {
   "display_name": "Julia 1.10.2",
   "language": "julia",
   "name": "julia-1.10"
  },
  "language_info": {
   "file_extension": ".jl",
   "mimetype": "application/julia",
   "name": "julia",
   "version": "1.10.2"
  }
 },
 "nbformat": 4,
 "nbformat_minor": 2
}
