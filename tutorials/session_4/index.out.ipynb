{
  "cells": [
    {
      "cell_type": "markdown",
      "metadata": {},
      "source": [
        "# A two agents model of inequalities.\n",
        "\n",
        "Business Cycles and Fluctuations - AE2E6\n",
        "\n",
        "> **Modfiles**\n",
        "\n",
        "Uncomment the following lines to install needed packages (if not already\n",
        "present)."
      ],
      "id": "a208c551-5f82-40a3-b726-e425915b2e03"
    },
    {
      "cell_type": "code",
      "execution_count": 1,
      "metadata": {},
      "outputs": [],
      "source": [
        "# uncomment the next lines, the first time you run\n",
        "# import Pkg; Pkg.add([\"DBnomics\", \"Dynare\", \"DataFrames\"])"
      ],
      "id": "cell-3"
    },
    {
      "cell_type": "markdown",
      "metadata": {},
      "source": [
        "## Preference for wealth and marginal propensity to consume\n",
        "\n",
        "For now, we consider a single representative agent. She has the ability\n",
        "to buy a two periods bond, yielding 1 after one period. The price of the\n",
        "bond at any date is $q$, hence its (riskfree) interest rate is $r=1/q$.\n",
        "\n",
        "Agent values consumption $c_t$ and wealth $b_t q_t$ so that she\n",
        "maximizes[1]:\n",
        "\n",
        "$$\\max \\sum_t \\beta^t \\left( \\frac{c_t^{1-\\frac{1}{\\sigma}}}{1-\\frac{1}{\\sigma}}+ \\varphi \\frac{ (1+b_t)^{1-\\frac{1}{\\eta}} } {1-\\frac{1}{\\eta}} \\right)$$\n",
        "\n",
        "under the budget constraint\n",
        "\n",
        "$$c_t = y_t + b_{t-1} - b_t q_t$$\n",
        "\n",
        "where $y_t$ is exogenous income following AR1\n",
        "\n",
        "$$(y_t-\\overline{y})=\\rho (y_{t-1}-\\overline{y}) + \\epsilon^y_t$$\n",
        "\n",
        "[1] this is the “preference for wealth” specification"
      ],
      "id": "80ca2e9f-6acb-4a9b-9b05-c201fd54a97b"
    },
    {
      "cell_type": "code",
      "execution_count": 1,
      "metadata": {},
      "outputs": [],
      "source": [
        "using Dynare"
      ],
      "id": "cell-5"
    },
    {
      "cell_type": "markdown",
      "metadata": {},
      "source": [
        "1.  **Write down the optimality condition for debt holdings.**\n",
        "\n",
        "2.  **What are the equations defining the deterministic equilibrium?**\n",
        "\n",
        "3.  **Inspect and run `one_agent.mod` model. Show that there is a unit\n",
        "    root. Can you interpret it?**\n",
        "\n",
        "4.  **What is the consumption response to a temporary income shock? To a\n",
        "    permanent one? (with autocorrelation $\\rho=0.9$ and $\\rho=1.0$)**\n",
        "\n",
        "5.  **In the modfile, add a preference for wealth term in the utility\n",
        "    function and adjust the calibration of `beta` accordingly.**\n",
        "\n",
        "6.  **Simulate the response to a temporary and a persistent shock. Given\n",
        "    `phi` what is the effect of `eta`?**\n",
        "\n",
        "## A two agents model\n",
        "\n",
        "We now assume there are two agents: bottom and top earners. Top earners\n",
        "amount for a fraction $\\chi$ of the total population. Together they earn\n",
        "a fraction $z\\in[0,1]$ of the total production $y$ which is an AR1\n",
        "process as in the first part. The rest goes to the bottom earners.\n",
        "\n",
        "Top earners can save by lending to bottom earners. We denote by $B_t$\n",
        "the total quantity of riskfree bonds, traded at $q_t$. Note that debt\n",
        "per capita is $\\frac{B_t}{\\chi}$ for top earners and\n",
        "$\\frac{B_t}{1-\\chi}$ for bottom earners. Top earners have preference for\n",
        "wealth as in the first part, while bottom earners have standard\n",
        "preferences (with $\\varphi=0$)\n",
        "\n",
        "1.  **Write down the budget equations for both agents. What are the new\n",
        "    Euler equations? Check that it is consistent with the\n",
        "    `two_agents.mod` modfile. What are the per capita variables?**\n",
        "\n",
        "2.  **What is qualitatively the effect of a permanent redistributive\n",
        "    shock? (simulate the model)**\n",
        "\n",
        "## Calibrating and simulating the model\n",
        "\n",
        "The model in the modefile is pre-calibrated to match US data in 1983.\n",
        "Assume the model is in equilibrium for an initial level of debt $B=0.91$\n",
        "(which is the debt/gdp ratio in the us in 1983).\n",
        "\n",
        "Taking $\\varphi=0.05$ as constant, for any given choice of $\\eta$, there\n",
        "is a unique value of $\\beta$ consistent with the equilibrium as in the\n",
        "one agent case.\n",
        "\n",
        "Now we would like to calibrate the value of $\\eta$ so as to match the\n",
        "marginal propensity to save of top earners which was approximately 50%\n",
        "in 1983.\n",
        "\n",
        "Since the two agents model is already calibrated for most variables, we\n",
        "reuse it rather than adapting the one agent model.\n",
        "\n",
        "1.  **In the model `two_agents.mod` replace the Euler equation of bottom\n",
        "    earner by `q = 1/rbar`. Justify why, from the top earners\n",
        "    perspective, the model is now equivalent to a single agent model.**\n",
        "\n",
        "**@. Use the modified model to compute the marginal propensity out of a\n",
        "permanent income shock after 6 periods. Choose parameter `eta` so that\n",
        "this m.p.s. is approximatively 50%.**\n",
        "\n",
        "1.  **What is the effect of a 10% permanent increase in inequalities?\n",
        "    Over 30 years and in the long run?**"
      ],
      "id": "44410fd3-c9c8-46a6-9de1-14c340389f9b"
    }
  ],
  "nbformat": 4,
  "nbformat_minor": 5,
  "metadata": {
    "kernelspec": {
      "name": "julia-1.10",
      "display_name": "Julia 1.10.2",
      "language": "julia"
    },
    "language_info": {
      "name": "julia",
      "file_extension": ".jl",
      "mimetype": "application/julia",
      "version": "1.10.2"
    }
  }
}