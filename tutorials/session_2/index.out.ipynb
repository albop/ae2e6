{
  "cells": [
    {
      "cell_type": "markdown",
      "metadata": {},
      "source": [
        "# First steps with Dynare and moment matching.\n",
        "\n",
        "Business Cycles and Fluctuations - AE2E6\n",
        "\n",
        "> **Objectives**\n",
        ">\n",
        "> Using Dynare:\n",
        ">\n",
        "> -   get familiar with the structure of a modfile\n",
        "> -   interpret results\n",
        ">     -   compare moments with the data\n",
        "> -   edit a model\n",
        ">     -   fix steady-state\n",
        ">     -   extend a model (in particular recheck/rederive first order\n",
        ">         conditions)\n",
        "\n",
        "> **Modfiles**\n",
        "\n",
        "Uncomment the following lines to install needed packages (if not already\n",
        "present)."
      ],
      "id": "7002ad74-3308-4580-850b-25b94017bd82"
    },
    {
      "cell_type": "code",
      "execution_count": null,
      "metadata": {},
      "outputs": [],
      "source": [
        "# uncomment the next lines, the first time you run\n",
        "# import Pkg; Pkg.add([\"DBnomics\", \"Dynare\", \"DataFrames\"])\n",
        "# import Pkg; Pkg.add(url=\"https://github.com/sdBrinkmann/HPFilter.jl\") # we install hpfilter from github"
      ],
      "id": "cell-4"
    },
    {
      "cell_type": "markdown",
      "metadata": {},
      "source": [
        "# Using Dynare\n",
        "\n",
        "Download the [rbc](rbc.mod) modfile."
      ],
      "id": "d6dca060-0d98-4243-8495-6a474c575b3e"
    },
    {
      "cell_type": "code",
      "execution_count": null,
      "metadata": {},
      "outputs": [],
      "source": [
        "using Dynare"
      ],
      "id": "cell-6"
    },
    {
      "cell_type": "markdown",
      "metadata": {},
      "source": [
        "**Open the RBC model and solve the model. Fix the mistakes in the\n",
        "modfile if any.**"
      ],
      "id": "54f6db6d-b9a1-4571-9724-f726b122cba5"
    },
    {
      "cell_type": "code",
      "execution_count": null,
      "metadata": {},
      "outputs": [],
      "source": [
        "context = @dynare \"rbc.mod\";\n",
        "# ; mutes the output\n",
        "# graphs and other outputs are stored in subdirectory `rbc`\n",
        "# the structure `context contains all the results.`"
      ],
      "id": "cell-8"
    },
    {
      "cell_type": "markdown",
      "metadata": {},
      "source": [
        "(if needed, download the correct model [here](rbc_fixed.mod) )\n",
        "\n",
        "**Inspect the various elements of the solution (decision rule,\n",
        "unconditional moments, simulations).**\n",
        "\n",
        "**Interpret the effect of a productivity shock. How does it depend on\n",
        "the productivity?**\n",
        "\n",
        "**Bonus: open the same model with Dyno (see link on the course webpage).\n",
        "Compare the results.**\n",
        "\n",
        "# Computing moments in the data\n",
        "\n",
        "**Download US time series from the world bank for: real gdp, investment,\n",
        "consumption, hours worked.**"
      ],
      "id": "ce27df70-b363-4118-a111-c98116cb36f7"
    },
    {
      "cell_type": "code",
      "execution_count": null,
      "metadata": {},
      "outputs": [],
      "source": [
        "using Plots\n",
        "using DBnomics\n",
        "using DataFrames\n",
        "using HPFilter: HP\n",
        "using Statistics: cor, std"
      ],
      "id": "cell-17"
    },
    {
      "cell_type": "code",
      "execution_count": null,
      "metadata": {},
      "outputs": [],
      "source": [
        "# google OECD\n",
        "df_ = rdb(ids = [\n",
        "    \"OECD/QNA/USA.P5.LNBQRSA.Q\", # investment\n",
        "    \"OECD/QNA/USA.B1_GS1.LNBQRSA.Q\", # GDP\n",
        "    \"OECD/QNA/USA.P3.LNBQRSA.Q\"\n",
        "\n",
        "]);"
      ],
      "id": "cell-18"
    },
    {
      "cell_type": "code",
      "execution_count": null,
      "metadata": {},
      "outputs": [],
      "source": [
        "# keep only the relevant data, in long format\n",
        "df_long = df_[!,[\"Subject\",\"period\",\"value\"]]"
      ],
      "id": "cell-19"
    },
    {
      "cell_type": "code",
      "execution_count": null,
      "metadata": {},
      "outputs": [],
      "source": [
        "df = unstack(df_long,:period, :Subject,:value);"
      ],
      "id": "cell-20"
    },
    {
      "cell_type": "code",
      "execution_count": null,
      "metadata": {},
      "outputs": [],
      "source": [
        "df = dropmissing(sort(df))"
      ],
      "id": "cell-21"
    },
    {
      "cell_type": "code",
      "execution_count": null,
      "metadata": {},
      "outputs": [],
      "source": [
        "rename!(df,[:period, :investment, :gdp, :consumption])"
      ],
      "id": "cell-22"
    },
    {
      "cell_type": "code",
      "execution_count": null,
      "metadata": {},
      "outputs": [],
      "source": [
        "pl1 = plot(df[!,:period], df[!,:investment],label=\"investment\")\n",
        "pl2 = plot(df[!,:period], df[!,:gdp],label=\"gdp\")\n",
        "pl3 = plot(df[!,:period], df[!,:consumption],label=\"consumption\")\n",
        "\n",
        "plot(pl1,pl2,pl3;size=(800,800))\n"
      ],
      "id": "cell-23"
    },
    {
      "cell_type": "markdown",
      "metadata": {},
      "source": [
        "**Detrend all series.**"
      ],
      "id": "025fb96b-5f88-4c08-b169-8338710aa8d5"
    },
    {
      "cell_type": "code",
      "execution_count": null,
      "metadata": {},
      "outputs": [],
      "source": [
        "# detrend the consumption series \n",
        "series = df[!,:consumption]\n",
        "trend = HP(series, 1600)\n",
        "cycle = (series - trend)./trend\n",
        "df[!,:consumption_trend] = trend\n",
        "df[!,:consumption_cycle] = cycle"
      ],
      "id": "cell-25"
    },
    {
      "cell_type": "code",
      "execution_count": null,
      "metadata": {},
      "outputs": [],
      "source": [
        "pl1 = plot(series, title=\"consumption\")\n",
        "plot!(pl1, trend, label=\"consumption\")\n",
        "pl2 = plot(cycle, title=\"consumption (cycle)\")\n",
        "plot(pl1, pl2)"
      ],
      "id": "cell-26"
    },
    {
      "cell_type": "code",
      "execution_count": null,
      "metadata": {},
      "outputs": [],
      "source": [
        "# detrend gdp\n",
        "\n",
        "# write your code here"
      ],
      "id": "cell-27"
    },
    {
      "cell_type": "code",
      "execution_count": null,
      "metadata": {},
      "outputs": [],
      "source": [
        "# detrend the investment series \n",
        "\n",
        "# write your code here"
      ],
      "id": "cell-28"
    },
    {
      "cell_type": "markdown",
      "metadata": {},
      "source": [
        "**Compute the correlations between the detrended series. Compute the\n",
        "ratios $\\frac{\\sigma(investment)}{\\sigma(gdp)}$ and\n",
        "$\\frac{\\sigma (consumption)}{\\sigma (gdp)}$. Compare with the RBC model\n",
        "and comment.**\n",
        "\n",
        "# Small Open Economy\n",
        "\n",
        "Start from the same rbc [model](rbc_fixed.mod). Assume the\n",
        "representative agent can save $b^{\\star}_t$ as foreign assets,\n",
        "remunerated at a constant interest rate $r^{\\star}-1$.\n",
        "\n",
        "**Write the new budget constraint for the representative household.**\n",
        "\n",
        "**Write the new optimality condition.**\n",
        "\n",
        "**What is the long run constraint on interest rate $r^{\\star}$?**\n",
        "\n",
        "**Update the modfile (set $\\overline{b^{\\star}}=0$)**\n",
        "\n",
        "**Print theoretical moments. Comment.**\n",
        "\n",
        "**Simulate the model over 100 periods. Comment.**\n",
        "\n",
        "**Assume the foreign interest rate depends on the amount of foreign\n",
        "assets**\n",
        "\n",
        "$$r^{\\star}=\\frac{1}{\\beta} + exp(-\\kappa b^{\\star}_t) - 1$$\n",
        "\n",
        "**with $\\kappa=0.01$. How do you interpret the equation for\n",
        "$r^{\\star}_t$. How should you modify the model equations?**\n",
        "\n",
        "**Update the modfile and comment on the generated moments. Do they\n",
        "depend on the choice of $\\kappa$?**"
      ],
      "id": "2ddaa1a3-17ca-4e81-8069-d609c30d7dff"
    }
  ],
  "nbformat": 4,
  "nbformat_minor": 5,
  "metadata": {
    "kernelspec": {
      "name": "julia-1.10",
      "display_name": "Julia 1.10.2",
      "language": "julia"
    },
    "language_info": {
      "name": "julia",
      "file_extension": ".jl",
      "mimetype": "application/julia",
      "version": "1.10.2"
    }
  }
}