{
 "cells": [
  {
   "cell_type": "markdown",
   "metadata": {},
   "source": [
    "---\n",
    "title: \"First steps with Dynare and moment matching.\"\n",
    "subtitle: \"Business Cycles and Fluctuations - AE2E6\"\n",
    "format:\n",
    "    ipynb:\n",
    "        output_file: problem.ipynb\n",
    "\n",
    "    html:\n",
    "        output-file: problem.html\n",
    "resources:\n",
    "    - \"*.mod\"\n",
    "listing:\n",
    "    id: mod-listings\n",
    "    contents:\n",
    "        - \"*.mod\"\n",
    "    fields: [filename]\n",
    "---"
   ]
  },
  {
   "cell_type": "markdown",
   "metadata": {},
   "source": [
    "::: {.callout-note collapse=\"true\" title=\"Objectives\"}\n",
    "\n",
    "Using Dynare:\n",
    "\n",
    "- get familiar with the structure of a modfile\n",
    "- interpret results\n",
    "    - compare moments with the data\n",
    "- edit a model\n",
    "    - fix steady-state\n",
    "    - extend a model (in particular recheck/rederive first order conditions)\n",
    "\n",
    "::: "
   ]
  },
  {
   "cell_type": "markdown",
   "metadata": {},
   "source": [
    "::: {.callout-tip title=\"Modfiles\" collapse=\"true\"}\n",
    "\n",
    ":::: {#mod-listings}\n",
    "::::\n",
    "\n",
    ":::"
   ]
  },
  {
   "cell_type": "markdown",
   "metadata": {},
   "source": [
    "Uncomment the following lines to install needed packages (if not already present)."
   ]
  },
  {
   "cell_type": "code",
   "execution_count": null,
   "metadata": {},
   "outputs": [],
   "source": [
    "# uncomment the next lines, the first time you run\n",
    "# import Pkg; Pkg.add([\"DBnomics\", \"Dynare\", \"DataFrames\"])\n",
    "# import Pkg; Pkg.add(url=\"https://github.com/sdBrinkmann/HPFilter.jl\") # we install hpfilter from github"
   ]
  },
  {
   "cell_type": "markdown",
   "metadata": {},
   "source": [
    "# Using Dynare\n",
    "\n",
    "Download the [rbc](rbc.mod) modfile."
   ]
  },
  {
   "cell_type": "code",
   "execution_count": null,
   "metadata": {},
   "outputs": [],
   "source": [
    "using Dynare"
   ]
  },
  {
   "cell_type": "markdown",
   "metadata": {},
   "source": [
    "__Open the RBC model and solve the model. Fix the mistakes in the modfile if any.__ "
   ]
  },
  {
   "cell_type": "code",
   "execution_count": null,
   "metadata": {},
   "outputs": [],
   "source": [
    "context = @dynare \"rbc.mod\";\n",
    "# ; mutes the output\n",
    "# graphs and other outputs are stored in subdirectory `rbc`\n",
    "# the structure `context contains all the results.`"
   ]
  },
  {
   "cell_type": "markdown",
   "metadata": {},
   "source": [
    "(if needed, download the correct model [here](rbc_fixed.mod) )\n",
    "\n",
    "__Inspect the various elements of the solution (decision rule, unconditional moments, simulations).__"
   ]
  },
  {
   "cell_type": "code",
   "execution_count": null,
   "metadata": {},
   "outputs": [],
   "source": []
  },
  {
   "cell_type": "markdown",
   "metadata": {},
   "source": [
    "__Interpret the effect of a productivity shock. How does it depend on the productivity?__"
   ]
  },
  {
   "cell_type": "code",
   "execution_count": null,
   "metadata": {},
   "outputs": [],
   "source": []
  },
  {
   "cell_type": "markdown",
   "metadata": {},
   "source": [
    "__Bonus: open the same model with Dyno (see link on the course webpage). Compare the results.__"
   ]
  },
  {
   "cell_type": "code",
   "execution_count": null,
   "metadata": {},
   "outputs": [],
   "source": []
  },
  {
   "cell_type": "markdown",
   "metadata": {},
   "source": [
    "# Computing moments in the data"
   ]
  },
  {
   "cell_type": "markdown",
   "metadata": {},
   "source": [
    "__Download US time series from the world bank for: real gdp, investment, consumption, hours worked.__"
   ]
  },
  {
   "cell_type": "code",
   "execution_count": null,
   "metadata": {},
   "outputs": [],
   "source": [
    "using Plots\n",
    "using DBnomics\n",
    "using DataFrames\n",
    "using HPFilter: HP\n",
    "using Statistics: cor, std"
   ]
  },
  {
   "cell_type": "code",
   "execution_count": null,
   "metadata": {},
   "outputs": [],
   "source": [
    "# google OECD\n",
    "df_ = rdb(ids = [\n",
    "    \"OECD/QNA/USA.P5.LNBQRSA.Q\", # investment\n",
    "    \"OECD/QNA/USA.B1_GS1.LNBQRSA.Q\", # GDP\n",
    "    \"OECD/QNA/USA.P3.LNBQRSA.Q\"\n",
    "\n",
    "]);"
   ]
  },
  {
   "cell_type": "code",
   "execution_count": null,
   "metadata": {},
   "outputs": [],
   "source": [
    "# keep only the relevant data, in long format\n",
    "df_long = df_[!,[\"Subject\",\"period\",\"value\"]]"
   ]
  },
  {
   "cell_type": "code",
   "execution_count": null,
   "metadata": {},
   "outputs": [],
   "source": [
    "df = unstack(df_long,:period, :Subject,:value);"
   ]
  },
  {
   "cell_type": "code",
   "execution_count": null,
   "metadata": {},
   "outputs": [],
   "source": [
    "df = dropmissing(sort(df))"
   ]
  },
  {
   "cell_type": "code",
   "execution_count": null,
   "metadata": {},
   "outputs": [],
   "source": [
    "rename!(df,[:period, :investment, :gdp, :consumption])"
   ]
  },
  {
   "cell_type": "code",
   "execution_count": null,
   "metadata": {},
   "outputs": [],
   "source": [
    "pl1 = plot(df[!,:period], df[!,:investment],label=\"investment\")\n",
    "pl2 = plot(df[!,:period], df[!,:gdp],label=\"gdp\")\n",
    "pl3 = plot(df[!,:period], df[!,:consumption],label=\"consumption\")\n",
    "\n",
    "plot(pl1,pl2,pl3;size=(800,800))\n"
   ]
  },
  {
   "cell_type": "markdown",
   "metadata": {},
   "source": [
    "__Detrend all series.__"
   ]
  },
  {
   "cell_type": "code",
   "execution_count": null,
   "metadata": {},
   "outputs": [],
   "source": [
    "# detrend the consumption series \n",
    "series = df[!,:consumption]\n",
    "trend = HP(series, 1600)\n",
    "cycle = (series - trend)./trend\n",
    "df[!,:consumption_trend] = trend\n",
    "df[!,:consumption_cycle] = cycle"
   ]
  },
  {
   "cell_type": "code",
   "execution_count": null,
   "metadata": {},
   "outputs": [],
   "source": [
    "pl1 = plot(series, title=\"consumption\")\n",
    "plot!(pl1, trend, label=\"consumption\")\n",
    "pl2 = plot(cycle, title=\"consumption (cycle)\")\n",
    "plot(pl1, pl2)"
   ]
  },
  {
   "cell_type": "code",
   "execution_count": null,
   "metadata": {},
   "outputs": [],
   "source": [
    "# detrend gdp\n",
    "\n",
    "# write your code here"
   ]
  },
  {
   "cell_type": "code",
   "execution_count": null,
   "metadata": {},
   "outputs": [],
   "source": [
    "# detrend the investment series \n",
    "\n",
    "# write your code here"
   ]
  },
  {
   "cell_type": "markdown",
   "metadata": {},
   "source": [
    "__Compute the correlations between the detrended series. Compute the ratios $\\frac{\\sigma(investment)}{\\sigma(gdp)}$ and $\\frac{\\sigma (consumption)}{\\sigma (gdp)}$. Compare with the RBC model and comment.__"
   ]
  },
  {
   "cell_type": "code",
   "execution_count": null,
   "metadata": {},
   "outputs": [],
   "source": []
  },
  {
   "cell_type": "markdown",
   "metadata": {},
   "source": [
    "# Small Open Economy\n",
    "\n",
    "Start from the same rbc [model](rbc_fixed.mod).\n",
    "Assume the representative agent can save $b^{\\star}_t$ as foreign assets, remunerated at a constant interest rate $r^{\\star}-1$.\n"
   ]
  },
  {
   "cell_type": "markdown",
   "metadata": {},
   "source": [
    "__Write the new budget constraint for the representative household.__"
   ]
  },
  {
   "cell_type": "code",
   "execution_count": null,
   "metadata": {},
   "outputs": [],
   "source": []
  },
  {
   "cell_type": "markdown",
   "metadata": {},
   "source": [
    "__Write the new optimality condition.__"
   ]
  },
  {
   "cell_type": "code",
   "execution_count": null,
   "metadata": {},
   "outputs": [],
   "source": []
  },
  {
   "cell_type": "markdown",
   "metadata": {},
   "source": [
    "__What is the long run constraint on interest rate $r^{\\star}$?__"
   ]
  },
  {
   "cell_type": "code",
   "execution_count": null,
   "metadata": {},
   "outputs": [],
   "source": []
  },
  {
   "cell_type": "markdown",
   "metadata": {},
   "source": [
    "__Update the modfile (set $\\overline{b^{\\star}}=0$)__"
   ]
  },
  {
   "cell_type": "code",
   "execution_count": null,
   "metadata": {},
   "outputs": [],
   "source": []
  },
  {
   "cell_type": "markdown",
   "metadata": {},
   "source": [
    "__Print theoretical moments. Comment.__"
   ]
  },
  {
   "cell_type": "code",
   "execution_count": null,
   "metadata": {},
   "outputs": [],
   "source": []
  },
  {
   "cell_type": "markdown",
   "metadata": {},
   "source": [
    "__Simulate the model over 100 periods. Comment.__"
   ]
  },
  {
   "cell_type": "code",
   "execution_count": null,
   "metadata": {},
   "outputs": [],
   "source": []
  },
  {
   "cell_type": "markdown",
   "metadata": {},
   "source": [
    "__Assume the foreign interest rate depends on the amount of foreign assets__\n",
    "\n",
    "$$r^{\\star}=\\frac{1}{\\beta} + exp(-\\kappa b^{\\star}_t) - 1$$\n",
    "\n",
    "__with $\\kappa=0.01$. How do you interpret the equation for $r^{\\star}_t$. How should you modify the model equations?__"
   ]
  },
  {
   "cell_type": "code",
   "execution_count": null,
   "metadata": {},
   "outputs": [],
   "source": []
  },
  {
   "cell_type": "markdown",
   "metadata": {},
   "source": [
    "__Update the modfile and comment on the generated moments. Do they depend on the choice of $\\kappa$?__"
   ]
  },
  {
   "cell_type": "code",
   "execution_count": null,
   "metadata": {},
   "outputs": [],
   "source": []
  }
 ],
 "metadata": {
  "kernelspec": {
   "display_name": "Julia 1.10.2",
   "language": "julia",
   "name": "julia-1.10"
  },
  "language_info": {
   "file_extension": ".jl",
   "mimetype": "application/julia",
   "name": "julia",
   "version": "1.10.2"
  }
 },
 "nbformat": 4,
 "nbformat_minor": 2
}
