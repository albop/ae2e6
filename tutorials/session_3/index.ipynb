{
 "cells": [
  {
   "cell_type": "markdown",
   "metadata": {},
   "source": [
    "---\n",
    "title: \"Opening Economy Extension\"\n",
    "subtitle: \"Business Cycles and Fluctuations - AE2E6\"\n",
    "format:\n",
    "    ipynb:\n",
    "        output_file: problem.ipynb\n",
    "\n",
    "    html:\n",
    "        output-file: problem.html\n",
    "resources:\n",
    "    - \"*.mod\"\n",
    "listing:\n",
    "    id: mod-listings\n",
    "    contents:\n",
    "        - \"*.mod\"\n",
    "    fields: [filename]\n",
    "---"
   ]
  },
  {
   "cell_type": "markdown",
   "metadata": {},
   "source": [
    "::: {.callout-note collapse=\"true\" title=\"Objectives\"}\n",
    "\n",
    "Using Dynare:\n",
    "\n",
    "- get familiar with the structure of a modfile\n",
    "- interpret results\n",
    "    - compare moments with the data\n",
    "- edit a model\n",
    "    - fix steady-state\n",
    "    - extend a model (in particular recheck/rederive first order conditions)\n",
    "\n",
    "::: "
   ]
  },
  {
   "cell_type": "markdown",
   "metadata": {},
   "source": [
    "::: {.callout-tip title=\"Modfiles\" collapse=\"true\"}\n",
    "\n",
    ":::: {#mod-listings}\n",
    "::::\n",
    "\n",
    ":::"
   ]
  },
  {
   "cell_type": "markdown",
   "metadata": {},
   "source": [
    "Uncomment the following lines to install needed packages (if not already present)."
   ]
  },
  {
   "cell_type": "code",
   "execution_count": null,
   "metadata": {},
   "outputs": [],
   "source": [
    "# uncomment the next lines, the first time you run\n",
    "# import Pkg; Pkg.add([\"Dynare\", \"DataFrames\"])\n"
   ]
  },
  {
   "cell_type": "markdown",
   "metadata": {},
   "source": [
    "# Small Open Economy\n",
    "\n",
    "Start from the same rbc [model](rbc_fixed.mod) as in last tutorial session.\n",
    "Assume the representative agent can save $b^{\\star}_t$ as foreign assets, remunerated at a constant interest rate $r^{\\star}-1$.\n"
   ]
  },
  {
   "cell_type": "markdown",
   "metadata": {},
   "source": [
    "__Write the new budget constraint for the representative household.__"
   ]
  },
  {
   "cell_type": "code",
   "execution_count": null,
   "metadata": {},
   "outputs": [],
   "source": []
  },
  {
   "cell_type": "markdown",
   "metadata": {},
   "source": [
    "__Write the new optimality condition.__"
   ]
  },
  {
   "cell_type": "code",
   "execution_count": null,
   "metadata": {},
   "outputs": [],
   "source": []
  },
  {
   "cell_type": "markdown",
   "metadata": {},
   "source": [
    "__What is the long run constraint on interest rate $r^{\\star}$?__"
   ]
  },
  {
   "cell_type": "code",
   "execution_count": null,
   "metadata": {},
   "outputs": [],
   "source": []
  },
  {
   "cell_type": "markdown",
   "metadata": {},
   "source": [
    "__Update the modfile (set $\\overline{b^{\\star}}=0$)__"
   ]
  },
  {
   "cell_type": "code",
   "execution_count": null,
   "metadata": {},
   "outputs": [],
   "source": []
  },
  {
   "cell_type": "markdown",
   "metadata": {},
   "source": [
    "__Print theoretical moments. Comment.__"
   ]
  },
  {
   "cell_type": "code",
   "execution_count": null,
   "metadata": {},
   "outputs": [],
   "source": []
  },
  {
   "cell_type": "markdown",
   "metadata": {},
   "source": [
    "__Simulate the model over 100 periods. Comment.__"
   ]
  },
  {
   "cell_type": "code",
   "execution_count": null,
   "metadata": {},
   "outputs": [],
   "source": []
  },
  {
   "cell_type": "markdown",
   "metadata": {},
   "source": [
    "__Assume the foreign interest rate depends on the amount of foreign assets__\n",
    "\n",
    "$$r^{\\star}_t=\\frac{1}{\\beta} + exp(-\\kappa b^{\\star}_t) - 1$$\n",
    "\n",
    "__with $\\kappa=0.001$. How do you interpret the equation for $r^{\\star}_t$. How should you modify the model equations?__"
   ]
  },
  {
   "cell_type": "code",
   "execution_count": null,
   "metadata": {},
   "outputs": [],
   "source": []
  },
  {
   "cell_type": "markdown",
   "metadata": {},
   "source": [
    "__Update the modfile and comment on the generated moments. Do they depend on the choice of $\\kappa$?__"
   ]
  },
  {
   "cell_type": "code",
   "execution_count": null,
   "metadata": {},
   "outputs": [],
   "source": []
  }
 ],
 "metadata": {
  "kernelspec": {
   "display_name": "Julia 1.10.2",
   "language": "julia",
   "name": "julia-1.10"
  },
  "language_info": {
   "file_extension": ".jl",
   "mimetype": "application/julia",
   "name": "julia",
   "version": "1.10.2"
  }
 },
 "nbformat": 4,
 "nbformat_minor": 2
}
