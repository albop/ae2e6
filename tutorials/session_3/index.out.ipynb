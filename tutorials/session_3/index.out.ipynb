{
  "cells": [
    {
      "cell_type": "markdown",
      "metadata": {},
      "source": [
        "# Opening Economy Extension\n",
        "\n",
        "Business Cycles and Fluctuations - AE2E6\n",
        "\n",
        "> **Objectives**\n",
        ">\n",
        "> Using Dynare:\n",
        ">\n",
        "> -   get familiar with the structure of a modfile\n",
        "> -   interpret results\n",
        ">     -   compare moments with the data\n",
        "> -   edit a model\n",
        ">     -   fix steady-state\n",
        ">     -   extend a model (in particular recheck/rederive first order\n",
        ">         conditions)\n",
        "\n",
        "> **Modfiles**\n",
        "\n",
        "Uncomment the following lines to install needed packages (if not already\n",
        "present)."
      ],
      "id": "1f663a48-4e4c-47b9-af39-c74cf352972e"
    },
    {
      "cell_type": "code",
      "execution_count": null,
      "metadata": {},
      "outputs": [],
      "source": [
        "# uncomment the next lines, the first time you run\n",
        "# import Pkg; Pkg.add([\"Dynare\", \"DataFrames\"])\n"
      ],
      "id": "cell-4"
    },
    {
      "cell_type": "markdown",
      "metadata": {},
      "source": [
        "# Small Open Economy\n",
        "\n",
        "Start from the same rbc [model](rbc_fixed.mod) as in last tutorial\n",
        "session. Assume the representative agent can save $b^{\\star}_t$ as\n",
        "foreign assets, remunerated at a constant interest rate $r^{\\star}-1$.\n",
        "\n",
        "**Write the new budget constraint for the representative household.**\n",
        "\n",
        "**Write the new optimality condition.**\n",
        "\n",
        "**What is the long run constraint on interest rate $r^{\\star}$?**\n",
        "\n",
        "**Update the modfile (set $\\overline{b^{\\star}}=0$)**\n",
        "\n",
        "**Print theoretical moments. Comment.**\n",
        "\n",
        "**Simulate the model over 100 periods. Comment.**\n",
        "\n",
        "**Assume the foreign interest rate depends on the amount of foreign\n",
        "assets**\n",
        "\n",
        "$$r^{\\star}_t=\\frac{1}{\\beta} + exp(-\\kappa b^{\\star}_t) - 1$$\n",
        "\n",
        "**with $\\kappa=0.001$. How do you interpret the equation for\n",
        "$r^{\\star}_t$. How should you modify the model equations?**\n",
        "\n",
        "**Update the modfile and comment on the generated moments. Do they\n",
        "depend on the choice of $\\kappa$?**"
      ],
      "id": "d34361b3-c6a7-4b9b-aac7-a3a603c43757"
    }
  ],
  "nbformat": 4,
  "nbformat_minor": 5,
  "metadata": {
    "kernelspec": {
      "name": "julia-1.10",
      "display_name": "Julia 1.10.2",
      "language": "julia"
    },
    "language_info": {
      "name": "julia",
      "file_extension": ".jl",
      "mimetype": "application/julia",
      "version": "1.10.2"
    }
  }
}