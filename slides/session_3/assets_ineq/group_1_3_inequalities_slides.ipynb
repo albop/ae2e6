{
  "cells": [
    {
      "cell_type": "markdown",
      "metadata": {},
      "source": [
        "# Introduction to Macroeconomics\n",
        "\n",
        "Topic 1 - Measures of inequality\n",
        "\n",
        "Pablo Winant  \n",
        "Invalid Date"
      ],
      "id": "521543e3-78f8-4446-b27e-dffbf6bbc21e"
    },
    {
      "cell_type": "raw",
      "metadata": {
        "raw_mimetype": "tex"
      },
      "source": [
        "\\tableofcontents"
      ],
      "id": "0128f08e-755a-45de-a063-2a65b8e55980"
    },
    {
      "cell_type": "markdown",
      "metadata": {},
      "source": [
        "# Measurement of Inequality\n",
        "\n",
        "## GDP"
      ],
      "id": "7068f56a-b274-4dad-95e4-58ba18df1a40"
    },
    {
      "cell_type": "raw",
      "metadata": {
        "raw_mimetype": "tex"
      },
      "source": [
        "\\begin{overprint}\n",
        "\n",
        "\\only<1>{\n",
        "\\includegraphics[width=0.6\\textwidth]{inequalities_1.png}\n",
        "}\n",
        "\n",
        "\n",
        "\\only<2>{\n",
        "\\includegraphics[width=0.6\\textwidth]{inequalities_2.png}\n",
        "}\n",
        "\n",
        "\n",
        "\\end{overprint}"
      ],
      "id": "e8e4ca4c-d3e1-4654-99fd-c38868c40de4"
    },
    {
      "cell_type": "raw",
      "metadata": {
        "raw_mimetype": "tex"
      },
      "source": [
        "\\vspace{-1cm}"
      ],
      "id": "1d06c68f-2d20-4554-ad79-0499bb47ce47"
    },
    {
      "cell_type": "raw",
      "metadata": {
        "raw_mimetype": "tex"
      },
      "source": [
        "\\only<1>{\n",
        "\\begin{itemize}\n",
        "\\item GDP is equal to total income\n",
        "\\item Does not say anything about distribution\n",
        "\\item But data is available\n",
        "\\end{itemize}\n",
        "}"
      ],
      "id": "b1b74b6a-fb33-4a56-b885-07afc0e9681c"
    },
    {
      "cell_type": "raw",
      "metadata": {
        "raw_mimetype": "tex"
      },
      "source": [
        "\\only<2>{\n",
        "\\begin{itemize}\n",
        "\\item Sort people by income levels make groups of equal sizes.\n",
        "\\item These are called \\emph{percentiles}.\n",
        "\\item Take average per quantile.\n",
        "\\end{itemize}\n",
        "}"
      ],
      "id": "643cccf0-1124-40e1-8f4e-cb593eb48d1b"
    },
    {
      "cell_type": "raw",
      "metadata": {
        "raw_mimetype": "tex"
      },
      "source": [
        "\\note{Here there are 3 percentiles.}"
      ],
      "id": "0a3eb4fa-724d-460f-a152-492c1385b065"
    },
    {
      "cell_type": "markdown",
      "metadata": {},
      "source": [
        "------------------------------------------------------------------------\n",
        "\n",
        "## Income Inequality"
      ],
      "id": "238762c6-51f4-49b6-b1ed-afa45ccefa58"
    },
    {
      "cell_type": "raw",
      "metadata": {
        "raw_mimetype": "tex"
      },
      "source": [
        "\\begin{overprint}\n",
        "\n",
        "    \\begin{center}\n",
        "\\only<1>{\n",
        "\\includegraphics[width=0.6\\textwidth]{income_inequality_1.png}\n",
        "}\n",
        "\n",
        "\n",
        "\n",
        "\n",
        "\\only<2>{\n",
        "    \\includegraphics[width=0.6\\textwidth]{income_inequality_3.png}\n",
        "}\n",
        "\n",
        "\\only<3>{\n",
        "    \\includegraphics[width=0.6\\textwidth]{gini.png}\n",
        "}\n",
        "\n",
        "\n",
        "\\only<4>{\n",
        "    \\includegraphics[width=0.6\\textwidth]{income_inequality_comparison.png}\n",
        "}\n",
        "\n",
        "\\end{center}\n",
        "\n",
        "\\vspace{-0.5cm}\n",
        "\n",
        "\\end{overprint}"
      ],
      "id": "1fc9c90a-30e5-43a2-8816-66bf6808999c"
    },
    {
      "cell_type": "raw",
      "metadata": {
        "raw_mimetype": "tex"
      },
      "source": [
        "\\only<1>{\n",
        "\\small\n",
        "\\begin{itemize}\n",
        "\\item Here are the results for France with 10 quantiles (deciles)\n",
        "\\item AFter tax montly available income per adult in 2011:\n",
        "    \\begin{itemize}\n",
        "    \\item bottom 10 decile: 522 dollars in average\n",
        "    \\item top 10 decile: 4226 dollars in average\n",
        "    \\end{itemize}\n",
        "\\item Ratio top 10 / bottom 10: 8\n",
        "\\end{itemize}\n",
        "\n",
        "}"
      ],
      "id": "eb3ba270-f519-4e90-8104-d3b60039fe40"
    },
    {
      "cell_type": "raw",
      "metadata": {
        "raw_mimetype": "tex"
      },
      "source": [
        "\\only<2>{\n",
        "\n",
        "\\begin{itemize}\n",
        "\\item Cumulative, normalized (sum to 1), income\n",
        "    \\begin{itemize}\n",
        "    \\item Lorenz curve\n",
        "    \\end{itemize}\n",
        "\\end{itemize}\n",
        "\n",
        "}"
      ],
      "id": "b6f1139d-5619-4029-8625-6bd3cc8ed288"
    },
    {
      "cell_type": "raw",
      "metadata": {
        "raw_mimetype": "tex"
      },
      "source": [
        "\\only<3>{\n",
        "\n",
        "\\begin{itemize}\n",
        "\\item Lorenz curve represnent distribution inequality\n",
        "\\item Gini index: A/(A+B)\n",
        "    \\begin{itemize}\n",
        "    \\item Gini=0: perfect equality\n",
        "    \\item Gini=1: extreme inequality\n",
        "    \\end{itemize}\n",
        "\\end{itemize}\n",
        "\n",
        "}"
      ],
      "id": "c3d905ad-5b38-41c9-9e7c-1fea483707fc"
    },
    {
      "cell_type": "raw",
      "metadata": {
        "raw_mimetype": "tex"
      },
      "source": [
        "\\only<4>{\n",
        "\n",
        "\\begin{itemize}\n",
        "\\item Example of International Comparison\n",
        "    \\begin{itemize}\n",
        "    \\item France and UK have similar level of inequality\n",
        "    \\item United States: more inequal country\n",
        "    \\item China and Brazil: high inequality\n",
        "    \\end{itemize}\n",
        "\\end{itemize}\n",
        "\n",
        "}"
      ],
      "id": "ff2f9e8a-deb4-488d-8f59-d4e89cfcfc27"
    },
    {
      "cell_type": "markdown",
      "metadata": {},
      "source": [
        "------------------------------------------------------------------------\n",
        "\n",
        "## How did it evolve over time?"
      ],
      "id": "86e99798-44ba-4e13-a1e3-7fa75f6bf5d0"
    },
    {
      "cell_type": "raw",
      "metadata": {
        "raw_mimetype": "tex"
      },
      "source": [
        "\\begin{center}\n",
        "\\includegraphics[width=0.6\\textwidth]{gini_evolution.png}\n",
        "\\end{center}\n",
        "\\vspace{-0.5cm}\n",
        "\\small\n",
        "\\begin{itemize}\n",
        "\\item France\n",
        "    \\begin{itemize}\n",
        "    \\item Constant decrease in the 70s, 80s\n",
        "    \\item Increased inequalities in the late 90s, 20s\n",
        "    \\item Decrease/Stability since\n",
        "    \\end{itemize}\n",
        "\\item United States\n",
        "    \\begin{itemize}\n",
        "    \\item Comparable to France in 70s\n",
        "    \\item Constant increase in the 70s, 80s, 90s\n",
        "    \\item Relatively constant since\n",
        "    \\end{itemize}\n",
        "\\end{itemize}"
      ],
      "id": "3c1df0bf-17f0-421c-bc45-7e4b82221240"
    },
    {
      "cell_type": "markdown",
      "metadata": {},
      "source": [
        "------------------------------------------------------------------------\n",
        "\n",
        "# Other Dimensions of Inequality\n",
        "\n",
        "## Other Dimensions of Inequality (measure)\n",
        "\n",
        "-   Measure:\n",
        "    -   pre-tax income\n",
        "    -   after-tax income\n",
        "    -   consumption\n",
        "    -   wealth\n",
        "-   Population\n",
        "    -   generational gap\n",
        "    -   gender gap\n",
        "    -   racial gap\n",
        "\n",
        "------------------------------------------------------------------------\n",
        "\n",
        "## Pre-tax vs post-tax inequality\n",
        "\n",
        "<figure>\n",
        "<img src=\"attachment:gini_comparison_before_after_taxes.png\"\n",
        "alt=\"Gini before and after taxes\" />\n",
        "<figcaption aria-hidden=\"true\">Gini before and after taxes</figcaption>\n",
        "</figure>"
      ],
      "attachments": {
        "gini_comparison_before_after_taxes.png": {
          "image/png": "[encoded data removed]"
        }
      },
      "id": "dc811442-f14a-4e53-9978-a7949fc1f6a9"
    },
    {
      "cell_type": "raw",
      "metadata": {
        "raw_mimetype": "tex"
      },
      "source": [
        "\\note{\n",
        "    gini index for various countries, before and after taxes: 2014\n",
        "    \\begin{itemize}\n",
        "    \\item compare France and United states: similar inequality in income before taxes 51\n",
        "    \\item redistribution in France brings it back to  0.29, vs 0.39 in the US\n",
        "    \\item european countries tend to redistribute more\n",
        "    \\item small european countries (Ireland, Portugal, Greece) have high pre-tax levels of inequalities\n",
        "    \\end{itemize}\n",
        "}"
      ],
      "id": "55c0f616-26e6-453c-a0d6-95c6fb0530c8"
    },
    {
      "cell_type": "markdown",
      "metadata": {},
      "source": [
        "------------------------------------------------------------------------\n",
        "\n",
        "## Consumption Inequality\n",
        "\n",
        "Consumption inequality much lower than income inequality."
      ],
      "id": "db7ea79f-63c9-4d98-9b23-c49f14aeb37b"
    },
    {
      "cell_type": "raw",
      "metadata": {
        "raw_mimetype": "tex"
      },
      "source": [
        "\\begin{itemize}\n",
        "\\item<1-> Two main reasons\n",
        "\\begin{itemize}\n",
        "\\item<2-> consumption sharing within a household, or a family\n",
        "\\item<3-> consumption smoothing over time through borrowing\n",
        "    \\begin{itemize}\n",
        "    \\item<4-> transitory shocks\n",
        "    \\item<5-> life-cycle smoothing\n",
        "    \\end{itemize}\n",
        "\\end{itemize}\n",
        "\\end{itemize}"
      ],
      "id": "9f0443cc-9dab-4fb5-8d39-b330b4d30ede"
    },
    {
      "cell_type": "raw",
      "metadata": {
        "raw_mimetype": "tex"
      },
      "source": [
        "\\note{\n",
        "    Consumption inequality tends to be much lower than income inequality.\n",
        "\\begin{itemize}\n",
        "\\item Two main reasons\n",
        "\\begin{itemize}\n",
        "\\item consumption sharing within a household, or a family\n",
        "\\item consumption smoothing over time through borrowing\n",
        "\\end{itemize}\n",
        "\\end{itemize}\n",
        "}"
      ],
      "id": "7239696c-965f-4ec2-8024-1ac8cd2cbde2"
    },
    {
      "cell_type": "markdown",
      "metadata": {},
      "source": [
        "------------------------------------------------------------------------\n",
        "\n",
        "## Other Dimensions of Inequality (population)\n",
        "\n",
        "-   Racial gap\n",
        "\n",
        "-   Gender gap\n",
        "\n",
        "    -   EU: women get paid in average 15% less than men. 10% less for\n",
        "        same work.\n",
        "\n",
        "-   Generational inequality (France)\n",
        "\n",
        "    -   baby-boomers had rising income profiles and high pensions\n",
        "    -   new generations have flatter income profiles and (expected)\n",
        "        lower pensions"
      ],
      "id": "9c7741aa-94ea-4e78-aa3e-ed63d97a80aa"
    },
    {
      "cell_type": "raw",
      "metadata": {
        "raw_mimetype": "tex"
      },
      "source": [
        "\\note{\n",
        "    - US: in average whites earn 30\\% more than blacks, who earn 20\\% more than hispanics.\n",
        "    - Not just racism. Job occupation. Educational disparities. Geographic segregation. Plenty of other factors. \n",
        "    - European commision: women earn on average 15% less than men. France is close to European average. Around 10\\%\n",
        "    - generational ineq : even more true for wealth inequality:\n",
        " }"
      ],
      "id": "d0a33231-dd13-4c3e-aada-bd9cc9a6dd80"
    },
    {
      "cell_type": "markdown",
      "metadata": {},
      "source": [
        "------------------------------------------------------------------------\n",
        "\n",
        "## Can we bear inequality ?\n",
        "\n",
        "-   Yes if:\n",
        "    -   it is associated with higher economic efficiency (??)\n",
        "    -   the economic cost of reducing inequality is important (??)\n",
        "    -   it is associated with high social mobility (???)\n",
        "-   No if: reducing inequality is an objective per se\n",
        "\n",
        "------------------------------------------------------------------------\n",
        "\n",
        "## Takeways\n",
        "\n",
        "-   Basic inequality measure: quantile ratios, gini coefficient\n",
        "\n",
        "-   Several dimensions of inequality"
      ],
      "id": "24a4c5cd-d3ea-4883-9426-0c84875fee97"
    },
    {
      "cell_type": "raw",
      "metadata": {
        "raw_mimetype": "tex"
      },
      "source": [
        "\\note{Let you think about how much you care.}"
      ],
      "id": "af48bfd0-0e74-4f87-9444-5e66283e9425"
    }
  ],
  "nbformat": 4,
  "nbformat_minor": 5,
  "metadata": {
    "kernelspec": {
      "display_name": "Python 3",
      "language": "python",
      "name": "python3"
    }
  }
}