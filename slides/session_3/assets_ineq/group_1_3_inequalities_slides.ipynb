{
  "cells": [
    {
      "cell_type": "markdown",
      "metadata": {},
      "source": [
        "# Introduction to Macroeconomics\n",
        "\n",
        "Topic 1 - Measures of inequality\n",
        "\n",
        "Pablo Winant  \n",
        "Invalid Date"
      ],
      "id": "9865ddb8-7916-4713-beed-bdf0e137e4f6"
    },
    {
      "cell_type": "raw",
      "metadata": {
        "raw_mimetype": "tex"
      },
      "source": [
        "\\tableofcontents"
      ],
      "id": "72ea7c56-6526-4e0c-9823-56ac4817f442"
    },
    {
      "cell_type": "markdown",
      "metadata": {},
      "source": [
        "# Measurement of Inequality\n",
        "\n",
        "## GDP"
      ],
      "id": "ba4946f6-f185-4187-ab70-685bf1135521"
    },
    {
      "cell_type": "raw",
      "metadata": {
        "raw_mimetype": "tex"
      },
      "source": [
        "\\begin{overprint}\n",
        "\n",
        "\\only<1>{\n",
        "\\includegraphics[width=0.6\\textwidth]{inequalities_1.png}\n",
        "}\n",
        "\n",
        "\n",
        "\\only<2>{\n",
        "\\includegraphics[width=0.6\\textwidth]{inequalities_2.png}\n",
        "}\n",
        "\n",
        "\n",
        "\\end{overprint}"
      ],
      "id": "d03853b1-e900-449d-a0ab-7e1eed17c9fe"
    },
    {
      "cell_type": "raw",
      "metadata": {
        "raw_mimetype": "tex"
      },
      "source": [
        "\\vspace{-1cm}"
      ],
      "id": "2d463cb5-0472-4ad6-84a7-9655a869731e"
    },
    {
      "cell_type": "raw",
      "metadata": {
        "raw_mimetype": "tex"
      },
      "source": [
        "\\only<1>{\n",
        "\\begin{itemize}\n",
        "\\item GDP is equal to total income\n",
        "\\item Does not say anything about distribution\n",
        "\\item But data is available\n",
        "\\end{itemize}\n",
        "}"
      ],
      "id": "96e85ddd-af3c-4f17-b161-733df18ad5a8"
    },
    {
      "cell_type": "raw",
      "metadata": {
        "raw_mimetype": "tex"
      },
      "source": [
        "\\only<2>{\n",
        "\\begin{itemize}\n",
        "\\item Sort people by income levels make groups of equal sizes.\n",
        "\\item These are called \\emph{percentiles}.\n",
        "\\item Take average per quantile.\n",
        "\\end{itemize}\n",
        "}"
      ],
      "id": "8d7abab3-c18a-42e1-a4bc-f329f4a21ea9"
    },
    {
      "cell_type": "raw",
      "metadata": {
        "raw_mimetype": "tex"
      },
      "source": [
        "\\note{Here there are 3 percentiles.}"
      ],
      "id": "7d63b4d2-3e1e-414b-a3fb-2cff5b651777"
    },
    {
      "cell_type": "markdown",
      "metadata": {},
      "source": [
        "------------------------------------------------------------------------\n",
        "\n",
        "## Income Inequality"
      ],
      "id": "35121ced-b547-4566-92f2-3032844c0014"
    },
    {
      "cell_type": "raw",
      "metadata": {
        "raw_mimetype": "tex"
      },
      "source": [
        "\\begin{overprint}\n",
        "\n",
        "    \\begin{center}\n",
        "\\only<1>{\n",
        "\\includegraphics[width=0.6\\textwidth]{income_inequality_1.png}\n",
        "}\n",
        "\n",
        "\n",
        "\n",
        "\n",
        "\\only<2>{\n",
        "    \\includegraphics[width=0.6\\textwidth]{income_inequality_3.png}\n",
        "}\n",
        "\n",
        "\\only<3>{\n",
        "    \\includegraphics[width=0.6\\textwidth]{gini.png}\n",
        "}\n",
        "\n",
        "\n",
        "\\only<4>{\n",
        "    \\includegraphics[width=0.6\\textwidth]{income_inequality_comparison.png}\n",
        "}\n",
        "\n",
        "\\end{center}\n",
        "\n",
        "\\vspace{-0.5cm}\n",
        "\n",
        "\\end{overprint}"
      ],
      "id": "f87a58c4-9ec3-4cfb-9c0c-7345fd247082"
    },
    {
      "cell_type": "raw",
      "metadata": {
        "raw_mimetype": "tex"
      },
      "source": [
        "\\only<1>{\n",
        "\\small\n",
        "\\begin{itemize}\n",
        "\\item Here are the results for France with 10 quantiles (deciles)\n",
        "\\item AFter tax montly available income per adult in 2011:\n",
        "    \\begin{itemize}\n",
        "    \\item bottom 10 decile: 522 dollars in average\n",
        "    \\item top 10 decile: 4226 dollars in average\n",
        "    \\end{itemize}\n",
        "\\item Ratio top 10 / bottom 10: 8\n",
        "\\end{itemize}\n",
        "\n",
        "}"
      ],
      "id": "dd0078bf-a0c3-473a-bda3-72ef2cb728b7"
    },
    {
      "cell_type": "raw",
      "metadata": {
        "raw_mimetype": "tex"
      },
      "source": [
        "\\only<2>{\n",
        "\n",
        "\\begin{itemize}\n",
        "\\item Cumulative, normalized (sum to 1), income\n",
        "    \\begin{itemize}\n",
        "    \\item Lorenz curve\n",
        "    \\end{itemize}\n",
        "\\end{itemize}\n",
        "\n",
        "}"
      ],
      "id": "44c93b2d-5f20-4663-b7dc-5871f06141e7"
    },
    {
      "cell_type": "raw",
      "metadata": {
        "raw_mimetype": "tex"
      },
      "source": [
        "\\only<3>{\n",
        "\n",
        "\\begin{itemize}\n",
        "\\item Lorenz curve represnent distribution inequality\n",
        "\\item Gini index: A/(A+B)\n",
        "    \\begin{itemize}\n",
        "    \\item Gini=0: perfect equality\n",
        "    \\item Gini=1: extreme inequality\n",
        "    \\end{itemize}\n",
        "\\end{itemize}\n",
        "\n",
        "}"
      ],
      "id": "e1af9083-9f9c-41c1-98fb-820a37f28e4c"
    },
    {
      "cell_type": "raw",
      "metadata": {
        "raw_mimetype": "tex"
      },
      "source": [
        "\\only<4>{\n",
        "\n",
        "\\begin{itemize}\n",
        "\\item Example of International Comparison\n",
        "    \\begin{itemize}\n",
        "    \\item France and UK have similar level of inequality\n",
        "    \\item United States: more inequal country\n",
        "    \\item China and Brazil: high inequality\n",
        "    \\end{itemize}\n",
        "\\end{itemize}\n",
        "\n",
        "}"
      ],
      "id": "a1621a83-250f-4c35-a1e3-6aaecc49cb7c"
    },
    {
      "cell_type": "markdown",
      "metadata": {},
      "source": [
        "------------------------------------------------------------------------\n",
        "\n",
        "## How did it evolve over time?"
      ],
      "id": "cfe2ef55-da5c-4abe-bb0c-7ecda3232a53"
    },
    {
      "cell_type": "raw",
      "metadata": {
        "raw_mimetype": "tex"
      },
      "source": [
        "\\begin{center}\n",
        "\\includegraphics[width=0.6\\textwidth]{gini_evolution.png}\n",
        "\\end{center}\n",
        "\\vspace{-0.5cm}\n",
        "\\small\n",
        "\\begin{itemize}\n",
        "\\item France\n",
        "    \\begin{itemize}\n",
        "    \\item Constant decrease in the 70s, 80s\n",
        "    \\item Increased inequalities in the late 90s, 20s\n",
        "    \\item Decrease/Stability since\n",
        "    \\end{itemize}\n",
        "\\item United States\n",
        "    \\begin{itemize}\n",
        "    \\item Comparable to France in 70s\n",
        "    \\item Constant increase in the 70s, 80s, 90s\n",
        "    \\item Relatively constant since\n",
        "    \\end{itemize}\n",
        "\\end{itemize}"
      ],
      "id": "2bd01895-5a7b-48e0-8a2e-2efd7137163e"
    },
    {
      "cell_type": "markdown",
      "metadata": {},
      "source": [
        "------------------------------------------------------------------------\n",
        "\n",
        "# Other Dimensions of Inequality\n",
        "\n",
        "## Other Dimensions of Inequality (measure)\n",
        "\n",
        "-   Measure:\n",
        "    -   pre-tax income\n",
        "    -   after-tax income\n",
        "    -   consumption\n",
        "    -   wealth\n",
        "-   Population\n",
        "    -   generational gap\n",
        "    -   gender gap\n",
        "    -   racial gap\n",
        "\n",
        "------------------------------------------------------------------------\n",
        "\n",
        "## Pre-tax vs post-tax inequality\n",
        "\n",
        "<figure>\n",
        "<img src=\"attachment:gini_comparison_before_after_taxes.png\"\n",
        "alt=\"Gini before and after taxes\" />\n",
        "<figcaption aria-hidden=\"true\">Gini before and after taxes</figcaption>\n",
        "</figure>"
      ],
      "attachments": {
        "gini_comparison_before_after_taxes.png": {
          "image/png": "[encoded data removed]"
        }
      },
      "id": "24001f7f-130e-4b18-9b73-4e2e07d1d1af"
    },
    {
      "cell_type": "raw",
      "metadata": {
        "raw_mimetype": "tex"
      },
      "source": [
        "\\note{\n",
        "    gini index for various countries, before and after taxes: 2014\n",
        "    \\begin{itemize}\n",
        "    \\item compare France and United states: similar inequality in income before taxes 51\n",
        "    \\item redistribution in France brings it back to  0.29, vs 0.39 in the US\n",
        "    \\item european countries tend to redistribute more\n",
        "    \\item small european countries (Ireland, Portugal, Greece) have high pre-tax levels of inequalities\n",
        "    \\end{itemize}\n",
        "}"
      ],
      "id": "9e373f54-cd0c-4390-880a-c4b7909e96c4"
    },
    {
      "cell_type": "markdown",
      "metadata": {},
      "source": [
        "------------------------------------------------------------------------\n",
        "\n",
        "## Consumption Inequality\n",
        "\n",
        "Consumption inequality much lower than income inequality."
      ],
      "id": "607c702d-5deb-4f55-94c5-2588e091de9a"
    },
    {
      "cell_type": "raw",
      "metadata": {
        "raw_mimetype": "tex"
      },
      "source": [
        "\\begin{itemize}\n",
        "\\item<1-> Two main reasons\n",
        "\\begin{itemize}\n",
        "\\item<2-> consumption sharing within a household, or a family\n",
        "\\item<3-> consumption smoothing over time through borrowing\n",
        "    \\begin{itemize}\n",
        "    \\item<4-> transitory shocks\n",
        "    \\item<5-> life-cycle smoothing\n",
        "    \\end{itemize}\n",
        "\\end{itemize}\n",
        "\\end{itemize}"
      ],
      "id": "9aa6735d-8462-4ff2-baec-eafcae93eab5"
    },
    {
      "cell_type": "raw",
      "metadata": {
        "raw_mimetype": "tex"
      },
      "source": [
        "\\note{\n",
        "    Consumption inequality tends to be much lower than income inequality.\n",
        "\\begin{itemize}\n",
        "\\item Two main reasons\n",
        "\\begin{itemize}\n",
        "\\item consumption sharing within a household, or a family\n",
        "\\item consumption smoothing over time through borrowing\n",
        "\\end{itemize}\n",
        "\\end{itemize}\n",
        "}"
      ],
      "id": "1dbe052f-eb09-489c-9bd3-c94f571a5a76"
    },
    {
      "cell_type": "markdown",
      "metadata": {},
      "source": [
        "------------------------------------------------------------------------\n",
        "\n",
        "## Other Dimensions of Inequality (population)\n",
        "\n",
        "-   Racial gap\n",
        "\n",
        "-   Gender gap\n",
        "\n",
        "    -   EU: women get paid in average 15% less than men. 10% less for\n",
        "        same work.\n",
        "\n",
        "-   Generational inequality (France)\n",
        "\n",
        "    -   baby-boomers had rising income profiles and high pensions\n",
        "    -   new generations have flatter income profiles and (expected)\n",
        "        lower pensions"
      ],
      "id": "9e088560-cb24-4770-8400-3e5755e9f42d"
    },
    {
      "cell_type": "raw",
      "metadata": {
        "raw_mimetype": "tex"
      },
      "source": [
        "\\note{\n",
        "    - US: in average whites earn 30\\% more than blacks, who earn 20\\% more than hispanics.\n",
        "    - Not just racism. Job occupation. Educational disparities. Geographic segregation. Plenty of other factors. \n",
        "    - European commision: women earn on average 15% less than men. France is close to European average. Around 10\\%\n",
        "    - generational ineq : even more true for wealth inequality:\n",
        " }"
      ],
      "id": "ed9882a1-f8a1-45d1-9df7-4f10b780f7b6"
    },
    {
      "cell_type": "markdown",
      "metadata": {},
      "source": [
        "------------------------------------------------------------------------\n",
        "\n",
        "## Can we bear inequality ?\n",
        "\n",
        "-   Yes if:\n",
        "    -   it is associated with higher economic efficiency (??)\n",
        "    -   the economic cost of reducing inequality is important (??)\n",
        "    -   it is associated with high social mobility (???)\n",
        "-   No if: reducing inequality is an objective per se\n",
        "\n",
        "------------------------------------------------------------------------\n",
        "\n",
        "## Takeways\n",
        "\n",
        "-   Basic inequality measure: quantile ratios, gini coefficient\n",
        "\n",
        "-   Several dimensions of inequality"
      ],
      "id": "b636cc40-931d-4670-8b7a-4c4550d7e8fe"
    },
    {
      "cell_type": "raw",
      "metadata": {
        "raw_mimetype": "tex"
      },
      "source": [
        "\\note{Let you think about how much you care.}"
      ],
      "id": "cc18b68a-96f6-4f6f-b1ae-6e59a3fae923"
    }
  ],
  "nbformat": 4,
  "nbformat_minor": 5,
  "metadata": {
    "kernelspec": {
      "display_name": "Python 3",
      "language": "python",
      "name": "python3"
    }
  }
}