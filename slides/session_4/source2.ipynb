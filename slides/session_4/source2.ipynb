{
  "cells": [
    {
      "cell_type": "markdown",
      "metadata": {},
      "source": [
        "# \n",
        "\n",
        "bayesian estimation banks and financially constrained households and\n",
        "firms.\n",
        "\n",
        "basic model + richer version\n",
        "\n",
        "questions: - disruption from redistribution (default) - credit standards\n",
        "-\\> cycle - asset prices for business fluctuations\n",
        "\n",
        "model = RBC + financial frictions on banks, households, firms\n",
        "\n",
        "estimation: differentiate between - usual shock - new *financial* shocks\n",
        "(redistribution, credit squeezes asset price shocks) fin shocks explain\n",
        "recessions\n",
        "\n",
        "idea: busimess cycles are financial rather than real\n",
        "\n",
        "literature: banks as intermediaries between savers and borrowers. Recent\n",
        "contributions include Brunnermeier and Sannikov (2014), Angeloni and\n",
        "Faia (2013), Gerali et al. (2010), Kiley and Sim (2011), Kollmann et\n",
        "al. (2011), Meh and Moran (2010), Williamson (2012), and Van den Heuvel\n",
        "(2008). T"
      ],
      "id": "1f1b4f52-e1d5-4188-9f7f-b515b91ca120"
    }
  ],
  "nbformat": 4,
  "nbformat_minor": 5,
  "metadata": {
    "kernelspec": {
      "display_name": "Python 3",
      "language": "python",
      "name": "python3"
    }
  }
}